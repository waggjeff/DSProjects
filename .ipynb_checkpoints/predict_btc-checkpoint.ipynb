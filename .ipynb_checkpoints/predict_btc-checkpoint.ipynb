{
 "cells": [
  {
   "cell_type": "markdown",
   "id": "e29eb445",
   "metadata": {},
   "source": [
    "## Calculate Stock Returns "
   ]
  },
  {
   "cell_type": "markdown",
   "id": "50d6de7b",
   "metadata": {},
   "source": [
    "Calculate historical stock returns for a stock of your choice. Plot out a line chart of the stock’s historic returns. This will also help you later on, when you’re working on the Intermediate Level Financial Data Science. \n",
    "\n",
    "Choose BTC-USD pair, data from "
   ]
  },
  {
   "cell_type": "code",
   "execution_count": null,
   "id": "5b5f881d",
   "metadata": {},
   "outputs": [],
   "source": []
  },
  {
   "cell_type": "code",
   "execution_count": null,
   "id": "eabefe57",
   "metadata": {},
   "outputs": [],
   "source": []
  }
 ],
 "metadata": {
  "kernelspec": {
   "display_name": "Python 3",
   "language": "python",
   "name": "python3"
  },
  "language_info": {
   "codemirror_mode": {
    "name": "ipython",
    "version": 3
   },
   "file_extension": ".py",
   "mimetype": "text/x-python",
   "name": "python",
   "nbconvert_exporter": "python",
   "pygments_lexer": "ipython3",
   "version": "3.8.8"
  }
 },
 "nbformat": 4,
 "nbformat_minor": 5
}
