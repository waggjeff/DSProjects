{
 "cells": [
  {
   "cell_type": "markdown",
   "id": "f615deb9",
   "metadata": {},
   "source": [
    "## Analyse Historical Bitcoin Data"
   ]
  },
  {
   "cell_type": "markdown",
   "id": "6ef6869e",
   "metadata": {},
   "source": [
    "Part A: Calculate historical stock returns for a stock of your choice. Plot out a line chart of the stock’s historic returns. This will also help you later on, when you’re working on the Intermediate Level Financial Data Science. \n",
    "\n",
    "Choose BTC-USD pair, data from Yahoo finance: https://finance.yahoo.com/quote/BTC-USD/ "
   ]
  },
  {
   "cell_type": "code",
   "execution_count": 22,
   "id": "5f380395",
   "metadata": {},
   "outputs": [
    {
     "name": "stdout",
     "output_type": "stream",
     "text": [
      "            Date          Open          High           Low         Close  \\\n",
      "0     2014-09-17    465.864014    468.174011    452.421997    457.334015   \n",
      "1     2014-09-18    456.859985    456.859985    413.104004    424.440002   \n",
      "2     2014-09-19    424.102997    427.834991    384.532013    394.795990   \n",
      "3     2014-09-20    394.673004    423.295990    389.882996    408.903992   \n",
      "4     2014-09-21    408.084991    412.425995    393.181000    398.821014   \n",
      "...          ...           ...           ...           ...           ...   \n",
      "2999  2022-12-03  17090.097656  17116.041016  16888.140625  16908.236328   \n",
      "3000  2022-12-04  16908.169922  17157.767578  16903.439453  17130.486328   \n",
      "3001  2022-12-05  17128.894531  17378.152344  16922.431641  16974.826172   \n",
      "3002  2022-12-06  16975.238281  17091.863281  16939.921875  17089.503906   \n",
      "3003  2022-12-07  17086.486328  17106.656250  16994.824219  16994.824219   \n",
      "\n",
      "         Adj Close       Volume  \n",
      "0       457.334015     21056800  \n",
      "1       424.440002     34483200  \n",
      "2       394.795990     37919700  \n",
      "3       408.903992     36863600  \n",
      "4       398.821014     26580100  \n",
      "...            ...          ...  \n",
      "2999  16908.236328  16217776704  \n",
      "3000  17130.486328  16824520830  \n",
      "3001  16974.826172  22209086834  \n",
      "3002  17089.503906  19889922369  \n",
      "3003  16994.824219  19437262848  \n",
      "\n",
      "[3004 rows x 7 columns]\n"
     ]
    }
   ],
   "source": [
    "import pandas as pd\n",
    "import numpy as np\n",
    "import datetime\n",
    "import matplotlib.pyplot as plt\n",
    "\n",
    "# Read in the csv file as a dataframe\n",
    "df = pd.read_csv(\"BTC-USD.csv\")\n",
    "print(df)"
   ]
  },
  {
   "cell_type": "code",
   "execution_count": 23,
   "id": "a952aeec",
   "metadata": {},
   "outputs": [],
   "source": [
    "# Add a new column called 'Returns' with respect to the start data\n",
    "P0 = df.Open[0]\n",
    "df['Date'] = pd.to_datetime(df['Date'])\n",
    "df['Returns'] = df.apply(lambda row: (row.Open / P0) - 1. , axis=1)"
   ]
  },
  {
   "cell_type": "code",
   "execution_count": 24,
   "id": "919f7772",
   "metadata": {},
   "outputs": [
    {
     "data": {
      "image/png": "[encoded data removed]",
      "text/plain": [
       "<Figure size 432x288 with 1 Axes>"
      ]
     },
     "metadata": {
      "needs_background": "light"
     },
     "output_type": "display_data"
    }
   ],
   "source": [
    "# Plot the returns\n",
    "plt.plot(df['Date'], df['Returns'])\n",
    "plt.xlabel(\"Date\")\n",
    "plt.ylabel(\"BTC to USD Returns since Sept 2014\")\n",
    "plt.show() "
   ]
  },
  {
   "cell_type": "markdown",
   "id": "36c0db07",
   "metadata": {},
   "source": [
    "Part B: Calculate the total risk of BTC using historical data for stock prices.\n",
    "\n"
   ]
  },
  {
   "cell_type": "code",
   "execution_count": null,
   "id": "cc9e900e",
   "metadata": {},
   "outputs": [],
   "source": []
  }
 ],
 "metadata": {
  "kernelspec": {
   "display_name": "Python 3",
   "language": "python",
   "name": "python3"
  },
  "language_info": {
   "codemirror_mode": {
    "name": "ipython",
    "version": 3
   },
   "file_extension": ".py",
   "mimetype": "text/x-python",
   "name": "python",
   "nbconvert_exporter": "python",
   "pygments_lexer": "ipython3",
   "version": "3.8.8"
  }
 },
 "nbformat": 4,
 "nbformat_minor": 5
}
