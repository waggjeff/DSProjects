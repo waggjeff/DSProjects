{
 "cells": [
  {
   "cell_type": "code",
   "execution_count": 142,
   "id": "5f676d50-c317-4bf5-9908-60572d807af3",
   "metadata": {},
   "outputs": [],
   "source": [
    "import numpy as np\n",
    "import pandas as pd\n",
    "import glob\n",
    "import warnings\n",
    "warnings.filterwarnings('ignore')\n",
    "from sklearn.linear_model import LinearRegression\n",
    "from sklearn.metrics import mean_squared_error, mean_absolute_error"
   ]
  },
  {
   "cell_type": "code",
   "execution_count": 9,
   "id": "01647022-86db-43ea-b9bd-37dbfb192a45",
   "metadata": {},
   "outputs": [],
   "source": [
    "file_path = glob.glob('../../Data/flow_loop/processed/*.csv')"
   ]
  },
  {
   "cell_type": "code",
   "execution_count": 37,
   "id": "0b959880-8633-4119-9bbd-6e1f78306863",
   "metadata": {},
   "outputs": [
    {
     "name": "stdout",
     "output_type": "stream",
     "text": [
      "Flow_Loop_Data_071822.csv\n",
      "Flow_Loop_Data_072022.csv\n"
     ]
    }
   ],
   "source": [
    "for file in file_path:\n",
    "    data = pd.read_csv(file)\n",
    "    allna_list = data.isnull().values.all(axis=0)\n",
    "    if True in allna_list:\n",
    "        file_name = file.split(\"\\\\\")[-1]\n",
    "        print(file_name)"
   ]
  },
  {
   "cell_type": "code",
   "execution_count": 168,
   "id": "1d4ba2b2-876b-47b5-bf48-27450f6b81b3",
   "metadata": {},
   "outputs": [],
   "source": [
    "df_18 = pd.read_csv('../../Data/flow_loop/processed/Flow_Loop_Data_071822.csv')\n",
    "df_20 = pd.read_csv('../../Data/flow_loop/processed/Flow_Loop_Data_072022.csv')\n",
    "df_train = pd.read_csv('../../Data/flow_loop/processed/Flow_Loop_Data_071522.csv')\n",
    "df_test = pd.read_csv('../../Data/flow_loop/processed/Flow_Loop_Data_072822.csv')"
   ]
  },
  {
   "cell_type": "code",
   "execution_count": 39,
   "id": "4e7b6c3a-6e0b-4b80-b3af-95a8506a5111",
   "metadata": {
    "collapsed": true,
    "jupyter": {
     "outputs_hidden": true
    },
    "tags": []
   },
   "outputs": [
    {
     "name": "stdout",
     "output_type": "stream",
     "text": [
      "<class 'pandas.core.frame.DataFrame'>\n",
      "RangeIndex: 347966 entries, 0 to 347965\n",
      "Data columns (total 40 columns):\n",
      " #   Column                  Non-Null Count  Dtype  \n",
      "---  ------                  --------------  -----  \n",
      " 0   time_FIT102             509 non-null    object \n",
      " 1   FIT102                  509 non-null    float64\n",
      " 2   time_FIT102_Raw_Signal  44314 non-null  object \n",
      " 3   FIT102_Raw_Signal       44314 non-null  float64\n",
      " 4   time_FIT202             14881 non-null  object \n",
      " 5   FIT202                  14881 non-null  float64\n",
      " 6   time_FIT202_Raw_Signal  64396 non-null  object \n",
      " 7   FIT202_Raw_Signal       64396 non-null  float64\n",
      " 8   time_LIT101             94 non-null     object \n",
      " 9   LIT101                  94 non-null     float64\n",
      " 10  time_LIT101_Raw_Signal  0 non-null      float64\n",
      " 11  LIT101_Raw_Signal       0 non-null      float64\n",
      " 12  time_LIT201             24 non-null     object \n",
      " 13  LIT201                  24 non-null     float64\n",
      " 14  time_LIT201_Raw_Signal  37316 non-null  object \n",
      " 15  LIT201_Raw_Signal       37316 non-null  float64\n",
      " 16  time_PIT101             5 non-null      object \n",
      " 17  PIT101                  5 non-null      float64\n",
      " 18  time_PIT101_Raw_Signal  37099 non-null  object \n",
      " 19  PIT101_Raw_Signal       37099 non-null  float64\n",
      " 20  time_PIT102             1006 non-null   object \n",
      " 21  PIT102                  1006 non-null   float64\n",
      " 22  time_PIT102_Raw_Signal  60108 non-null  object \n",
      " 23  PIT102_Raw_Signal       60108 non-null  float64\n",
      " 24  time_PIT201             376 non-null    object \n",
      " 25  PIT201                  376 non-null    float64\n",
      " 26  time_PIT201_Raw_Signal  60109 non-null  object \n",
      " 27  PIT201_Raw_Signal       60109 non-null  float64\n",
      " 28  time_PIT202             2299 non-null   object \n",
      " 29  PIT202                  2299 non-null   float64\n",
      " 30  time_PIT202_Raw_Signal  0 non-null      float64\n",
      " 31  PIT202_Raw_Signal       0 non-null      float64\n",
      " 32  time_SI102              240 non-null    object \n",
      " 33  SI102                   240 non-null    float64\n",
      " 34  time_SI102_Raw_Signal   45747 non-null  object \n",
      " 35  SI102_Raw_Signal        45747 non-null  float64\n",
      " 36  time_SI202              33290 non-null  object \n",
      " 37  SI202                   33290 non-null  float64\n",
      " 38  time_SI202_Raw_Signal   65773 non-null  object \n",
      " 39  SI202_Raw_Signal        65773 non-null  float64\n",
      "dtypes: float64(22), object(18)\n",
      "memory usage: 106.2+ MB\n"
     ]
    }
   ],
   "source": [
    "df_18.info()"
   ]
  },
  {
   "cell_type": "code",
   "execution_count": 44,
   "id": "c35480c4-9c56-4da4-82b1-641c513d3691",
   "metadata": {},
   "outputs": [],
   "source": [
    "df_18['time_LIT101_Raw_Signal'] = df_18['time_LIT101']\n",
    "df_18['time_PIT202_Raw_Signal'] = df_18['time_PIT202']"
   ]
  },
  {
   "cell_type": "markdown",
   "id": "76ad0f98-a8df-4387-97f3-3763b0602d76",
   "metadata": {},
   "source": [
    "LIT101"
   ]
  },
  {
   "cell_type": "code",
   "execution_count": 135,
   "id": "8d177ea7-cdfa-4dcc-b02e-ca3f033045d5",
   "metadata": {},
   "outputs": [],
   "source": [
    "def get_X_y(df, ind):\n",
    "    real = df.iloc[:, ind:ind+2]\n",
    "    real.dropna(inplace=True)\n",
    "    raw = df.iloc[:, ind+2:ind+4]\n",
    "    raw.dropna(inplace=True)\n",
    "    merged_df = pd.merge(real, raw, how = 'left', left_on=df.columns[ind], right_on=df.columns[ind+2])\n",
    "    merged_df.dropna(axis=0, inplace=True)\n",
    "    X_train = np.array(merged_df.iloc[:,1])\n",
    "    X_train = np.reshape(X_train, (-1, 1))\n",
    "    y_train = np.array(merged_df.iloc[:, 3])\n",
    "    y_train = np.reshape(y_train, (-1, 1))\n",
    "    return X_train, y_train"
   ]
  },
  {
   "cell_type": "code",
   "execution_count": 139,
   "id": "44e145b6-2bbd-4e7f-810d-ebd32779c093",
   "metadata": {},
   "outputs": [],
   "source": [
    "X_train, y_train = get_X_y(df_train, 8)"
   ]
  },
  {
   "cell_type": "code",
   "execution_count": 140,
   "id": "d7ff78ec-1b46-4ee9-a834-1c0b9f20864c",
   "metadata": {},
   "outputs": [],
   "source": [
    "X_test, y_test = get_X_y(df_test, 8)"
   ]
  },
  {
   "cell_type": "code",
   "execution_count": 145,
   "id": "e70cb265-bd85-4c07-abf6-fdbc31c5c2bf",
   "metadata": {},
   "outputs": [
    {
     "data": {
      "text/plain": [
       "0.001936590163565966"
      ]
     },
     "execution_count": 145,
     "metadata": {},
     "output_type": "execute_result"
    }
   ],
   "source": [
    "lr = LinearRegression()\n",
    "lr.fit(X_train, y_train)\n",
    "predict = lr.predict(X_test)\n",
    "mean_absolute_error(y_test, predict) / np.mean(y_test)"
   ]
  },
  {
   "cell_type": "markdown",
   "id": "d13db94c-e1eb-41e7-9624-59b593f20a06",
   "metadata": {},
   "source": [
    "mean absolute error 0.2%, which is fine"
   ]
  },
  {
   "cell_type": "code",
   "execution_count": 170,
   "id": "9b13008d-7e72-40d7-aad0-4d49a65ca2b2",
   "metadata": {},
   "outputs": [],
   "source": [
    "df_18['time_LIT101_Raw_Signal'] = df_18['time_LIT101']"
   ]
  },
  {
   "cell_type": "code",
   "execution_count": 185,
   "id": "31dcbbcc-cfee-4504-8f02-5699af0903e5",
   "metadata": {},
   "outputs": [],
   "source": [
    "new_values = lr.predict(df_18['LIT101'].dropna().values.reshape(-1,1))\n",
    "new_values = pd.Series(new_values.ravel())\n",
    "df_18['LIT101_Raw_Signal'] = new_values"
   ]
  },
  {
   "cell_type": "code",
   "execution_count": null,
   "id": "badae0ef-8710-4737-a3f3-423cd43f1e86",
   "metadata": {},
   "outputs": [],
   "source": []
  },
  {
   "cell_type": "code",
   "execution_count": 188,
   "id": "96b06d4d-6ccc-4e4d-9575-23988ad93541",
   "metadata": {},
   "outputs": [],
   "source": [
    "df_20['time_LIT101_Raw_Signal'] = df_20['time_LIT101']\n",
    "new_values = lr.predict(df_20['LIT101'].dropna().values.reshape(-1,1))\n",
    "new_values = pd.Series(new_values.ravel())\n",
    "df_20['LIT101_Raw_Signal'] = new_values"
   ]
  },
  {
   "cell_type": "code",
   "execution_count": null,
   "id": "7c5df30f-9c11-4513-9f1b-eb3bfda81f3f",
   "metadata": {},
   "outputs": [],
   "source": []
  },
  {
   "cell_type": "markdown",
   "id": "66c8f9eb-cfca-43a3-b54c-4a5e097de13e",
   "metadata": {},
   "source": [
    "PIT202"
   ]
  },
  {
   "cell_type": "code",
   "execution_count": 191,
   "id": "9fcfe632-2815-4802-8395-e78b3ac0a4c7",
   "metadata": {},
   "outputs": [],
   "source": [
    "X_train, y_train = get_X_y(df_train, 28)\n",
    "X_test, y_test = get_X_y(df_test, 28)"
   ]
  },
  {
   "cell_type": "code",
   "execution_count": 192,
   "id": "85de5157-4a0a-4a49-8964-bd1889262ed6",
   "metadata": {},
   "outputs": [
    {
     "data": {
      "text/plain": [
       "0.0065337986518514525"
      ]
     },
     "execution_count": 192,
     "metadata": {},
     "output_type": "execute_result"
    }
   ],
   "source": [
    "lr = LinearRegression()\n",
    "lr.fit(X_train, y_train)\n",
    "predict = lr.predict(X_test)\n",
    "mean_absolute_error(y_test, predict) / np.mean(y_test)"
   ]
  },
  {
   "cell_type": "markdown",
   "id": "9d4ed618-ae73-4c9c-961c-7e6447bc25a6",
   "metadata": {},
   "source": [
    "error less than 0.1%"
   ]
  },
  {
   "cell_type": "code",
   "execution_count": 193,
   "id": "053af97a-9d75-4f12-a7e2-408ed523436a",
   "metadata": {},
   "outputs": [],
   "source": [
    "df_18['time_PIT202_Raw_Signal'] = df_18['time_PIT202']\n",
    "new_values = lr.predict(df_18['PIT202'].dropna().values.reshape(-1,1))\n",
    "new_values = pd.Series(new_values.ravel())\n",
    "df_18['PIT202_Raw_Signal'] = new_values"
   ]
  },
  {
   "cell_type": "code",
   "execution_count": 194,
   "id": "09a22ce7-6b13-41ba-ab10-01cc66f3a4b8",
   "metadata": {},
   "outputs": [
    {
     "name": "stdout",
     "output_type": "stream",
     "text": [
      "<class 'pandas.core.frame.DataFrame'>\n",
      "RangeIndex: 347966 entries, 0 to 347965\n",
      "Data columns (total 40 columns):\n",
      " #   Column                  Non-Null Count  Dtype  \n",
      "---  ------                  --------------  -----  \n",
      " 0   time_FIT102             509 non-null    object \n",
      " 1   FIT102                  509 non-null    float64\n",
      " 2   time_FIT102_Raw_Signal  44314 non-null  object \n",
      " 3   FIT102_Raw_Signal       44314 non-null  float64\n",
      " 4   time_FIT202             14881 non-null  object \n",
      " 5   FIT202                  14881 non-null  float64\n",
      " 6   time_FIT202_Raw_Signal  64396 non-null  object \n",
      " 7   FIT202_Raw_Signal       64396 non-null  float64\n",
      " 8   time_LIT101             94 non-null     object \n",
      " 9   LIT101                  94 non-null     float64\n",
      " 10  time_LIT101_Raw_Signal  94 non-null     object \n",
      " 11  LIT101_Raw_Signal       94 non-null     float64\n",
      " 12  time_LIT201             24 non-null     object \n",
      " 13  LIT201                  24 non-null     float64\n",
      " 14  time_LIT201_Raw_Signal  37316 non-null  object \n",
      " 15  LIT201_Raw_Signal       37316 non-null  float64\n",
      " 16  time_PIT101             5 non-null      object \n",
      " 17  PIT101                  5 non-null      float64\n",
      " 18  time_PIT101_Raw_Signal  37099 non-null  object \n",
      " 19  PIT101_Raw_Signal       37099 non-null  float64\n",
      " 20  time_PIT102             1006 non-null   object \n",
      " 21  PIT102                  1006 non-null   float64\n",
      " 22  time_PIT102_Raw_Signal  60108 non-null  object \n",
      " 23  PIT102_Raw_Signal       60108 non-null  float64\n",
      " 24  time_PIT201             376 non-null    object \n",
      " 25  PIT201                  376 non-null    float64\n",
      " 26  time_PIT201_Raw_Signal  60109 non-null  object \n",
      " 27  PIT201_Raw_Signal       60109 non-null  float64\n",
      " 28  time_PIT202             2299 non-null   object \n",
      " 29  PIT202                  2299 non-null   float64\n",
      " 30  time_PIT202_Raw_Signal  2299 non-null   object \n",
      " 31  PIT202_Raw_Signal       2299 non-null   float64\n",
      " 32  time_SI102              240 non-null    object \n",
      " 33  SI102                   240 non-null    float64\n",
      " 34  time_SI102_Raw_Signal   45747 non-null  object \n",
      " 35  SI102_Raw_Signal        45747 non-null  float64\n",
      " 36  time_SI202              33290 non-null  object \n",
      " 37  SI202                   33290 non-null  float64\n",
      " 38  time_SI202_Raw_Signal   65773 non-null  object \n",
      " 39  SI202_Raw_Signal        65773 non-null  float64\n",
      "dtypes: float64(20), object(20)\n",
      "memory usage: 106.2+ MB\n"
     ]
    }
   ],
   "source": [
    "df_18.info()"
   ]
  },
  {
   "cell_type": "code",
   "execution_count": 195,
   "id": "ea21c0d5-7f5e-4065-a91b-2952f5080e4b",
   "metadata": {},
   "outputs": [
    {
     "name": "stdout",
     "output_type": "stream",
     "text": [
      "<class 'pandas.core.frame.DataFrame'>\n",
      "RangeIndex: 347966 entries, 0 to 347965\n",
      "Data columns (total 40 columns):\n",
      " #   Column                  Non-Null Count  Dtype  \n",
      "---  ------                  --------------  -----  \n",
      " 0   time_FIT102             688 non-null    object \n",
      " 1   FIT102                  688 non-null    float64\n",
      " 2   time_FIT102_Raw_Signal  42258 non-null  object \n",
      " 3   FIT102_Raw_Signal       42258 non-null  float64\n",
      " 4   time_FIT202             20278 non-null  object \n",
      " 5   FIT202                  20278 non-null  float64\n",
      " 6   time_FIT202_Raw_Signal  70817 non-null  object \n",
      " 7   FIT202_Raw_Signal       70817 non-null  float64\n",
      " 8   time_LIT101             102 non-null    object \n",
      " 9   LIT101                  102 non-null    float64\n",
      " 10  time_LIT101_Raw_Signal  102 non-null    object \n",
      " 11  LIT101_Raw_Signal       102 non-null    float64\n",
      " 12  time_LIT201             35 non-null     object \n",
      " 13  LIT201                  35 non-null     float64\n",
      " 14  time_LIT201_Raw_Signal  32656 non-null  object \n",
      " 15  LIT201_Raw_Signal       32656 non-null  float64\n",
      " 16  time_PIT101             3 non-null      object \n",
      " 17  PIT101                  3 non-null      float64\n",
      " 18  time_PIT101_Raw_Signal  34679 non-null  object \n",
      " 19  PIT101_Raw_Signal       34679 non-null  float64\n",
      " 20  time_PIT102             158 non-null    object \n",
      " 21  PIT102                  158 non-null    float64\n",
      " 22  time_PIT102_Raw_Signal  52384 non-null  object \n",
      " 23  PIT102_Raw_Signal       52384 non-null  float64\n",
      " 24  time_PIT201             1162 non-null   object \n",
      " 25  PIT201                  1162 non-null   float64\n",
      " 26  time_PIT201_Raw_Signal  62949 non-null  object \n",
      " 27  PIT201_Raw_Signal       62949 non-null  float64\n",
      " 28  time_PIT202             3510 non-null   object \n",
      " 29  PIT202                  3510 non-null   float64\n",
      " 30  time_PIT202_Raw_Signal  66323 non-null  object \n",
      " 31  PIT202_Raw_Signal       66323 non-null  float64\n",
      " 32  time_SI102              326 non-null    object \n",
      " 33  SI102                   326 non-null    float64\n",
      " 34  time_SI102_Raw_Signal   47102 non-null  object \n",
      " 35  SI102_Raw_Signal        47102 non-null  float64\n",
      " 36  time_SI202              33719 non-null  object \n",
      " 37  SI202                   33719 non-null  float64\n",
      " 38  time_SI202_Raw_Signal   69357 non-null  object \n",
      " 39  SI202_Raw_Signal        69357 non-null  float64\n",
      "dtypes: float64(20), object(20)\n",
      "memory usage: 106.2+ MB\n"
     ]
    }
   ],
   "source": [
    "df_20.info()"
   ]
  },
  {
   "cell_type": "code",
   "execution_count": 196,
   "id": "1d919e76-9e37-44df-b730-f81d978a1ea7",
   "metadata": {},
   "outputs": [],
   "source": [
    "df_18.to_csv('../../Data/flow_loop/processed/Flow_Loop_Data_071822.csv', index=False, date_format=\"%Y-%m-%d %H:%M:%S\")"
   ]
  },
  {
   "cell_type": "code",
   "execution_count": 197,
   "id": "a2997976-2825-4eaa-bbde-beeac84518dc",
   "metadata": {},
   "outputs": [],
   "source": [
    "df_20.to_csv('../../Data/flow_loop/processed/Flow_Loop_Data_072022.csv', index=False, date_format=\"%Y-%m-%d %H:%M:%S\")"
   ]
  }
 ],
 "metadata": {
  "kernelspec": {
   "display_name": "Python 3 (ipykernel)",
   "language": "python",
   "name": "python3"
  },
  "language_info": {
   "codemirror_mode": {
    "name": "ipython",
    "version": 3
   },
   "file_extension": ".py",
   "mimetype": "text/x-python",
   "name": "python",
   "nbconvert_exporter": "python",
   "pygments_lexer": "ipython3",
   "version": "3.9.12"
  }
 },
 "nbformat": 4,
 "nbformat_minor": 5
}
