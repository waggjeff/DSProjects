{
 "cells": [
  {
   "cell_type": "code",
   "execution_count": 1,
   "id": "64544aaa",
   "metadata": {},
   "outputs": [],
   "source": [
    "import os\n",
    "import sys\n",
    "sys.path.append(\"..\")\n",
    "import helpers.lablog_parser as lablog"
   ]
  },
  {
   "cell_type": "code",
   "execution_count": 6,
   "id": "013a4a55",
   "metadata": {},
   "outputs": [
    {
     "data": {
      "text/plain": [
       "[['power',\n",
       "  datetime.datetime(2022, 7, 15, 10, 35),\n",
       "  datetime.datetime(2022, 7, 15, 10, 44)],\n",
       " ['overall_instrument_air',\n",
       "  datetime.datetime(2022, 7, 15, 10, 54),\n",
       "  datetime.datetime(2022, 7, 15, 10, 59)],\n",
       " ['HV_201',\n",
       "  datetime.datetime(2022, 7, 15, 12, 35),\n",
       "  datetime.datetime(2022, 7, 15, 12, 45)],\n",
       " ['HV_101',\n",
       "  datetime.datetime(2022, 7, 15, 12, 46),\n",
       "  datetime.datetime(2022, 7, 15, 12, 53)],\n",
       " ['LCV_203',\n",
       "  datetime.datetime(2022, 7, 15, 14, 43),\n",
       "  datetime.datetime(2022, 7, 15, 14, 46)],\n",
       " ['LCV_103',\n",
       "  datetime.datetime(2022, 7, 15, 14, 48),\n",
       "  datetime.datetime(2022, 7, 15, 14, 50)],\n",
       " ['SV_101',\n",
       "  datetime.datetime(2022, 7, 15, 14, 50),\n",
       "  datetime.datetime(2022, 7, 15, 14, 53)],\n",
       " ['SV_101_half',\n",
       "  datetime.datetime(2022, 7, 15, 14, 53),\n",
       "  datetime.datetime(2022, 7, 15, 14, 55)],\n",
       " ['SV_201',\n",
       "  datetime.datetime(2022, 7, 15, 14, 55),\n",
       "  datetime.datetime(2022, 7, 15, 14, 57)],\n",
       " ['loss of power to both pumps',\n",
       "  datetime.datetime(2022, 7, 18, 13, 7),\n",
       "  datetime.datetime(2022, 7, 18, 13, 8)],\n",
       " ['overall_instrument_air',\n",
       "  datetime.datetime(2022, 7, 18, 13, 42),\n",
       "  datetime.datetime(2022, 7, 18, 13, 45)],\n",
       " ['overall_instrument_air',\n",
       "  datetime.datetime(2022, 7, 18, 14, 4),\n",
       "  datetime.datetime(2022, 7, 18, 14, 5)],\n",
       " ['HV_101',\n",
       "  datetime.datetime(2022, 7, 18, 14, 47),\n",
       "  datetime.datetime(2022, 7, 18, 15, 24)],\n",
       " ['???', None, None],\n",
       " ['LCV_203',\n",
       "  datetime.datetime(2022, 7, 18, 17, 7),\n",
       "  datetime.datetime(2022, 7, 18, 17, 16)],\n",
       " ['LCV_203',\n",
       "  datetime.datetime(2022, 7, 18, 17, 33),\n",
       "  datetime.datetime(2022, 7, 18, 17, 42)],\n",
       " ['SV_101',\n",
       "  datetime.datetime(2022, 7, 18, 17, 51),\n",
       "  datetime.datetime(2022, 7, 18, 17, 53)],\n",
       " ['SV_201',\n",
       "  datetime.datetime(2022, 7, 18, 18, 4),\n",
       "  datetime.datetime(2022, 7, 18, 18, 9)],\n",
       " ['shut off pumps', datetime.datetime(2022, 7, 18, 18, 29), None]]"
      ]
     },
     "execution_count": 6,
     "metadata": {},
     "output_type": "execute_result"
    }
   ],
   "source": [
    "\"\"\"\n",
    "the function read_anomalies transforms the spreadsheet Lablog_processed.xlsx into a list of anomalies,\n",
    "each one of the form [\"anomaly type\", begin_datetime, end_datetime].\n",
    "You can choose to read specific sheets, for instance, 2022-07-15 and 2022-07-18. See the next example:\n",
    "\"\"\"\n",
    "path=os.path.join(\"..\",\"data\",\"raw\",\"Lablog_processed.xlsx\")\n",
    "anomalies_only_two=lablog.read_anomalies(path,[\"2022-07-15\",\"2022-07-18\"])\n",
    "anomalies_only_two"
   ]
  },
  {
   "cell_type": "code",
   "execution_count": 7,
   "id": "d47e931e",
   "metadata": {},
   "outputs": [
    {
     "name": "stdout",
     "output_type": "stream",
     "text": [
      "19 31\n"
     ]
    }
   ],
   "source": [
    "\"\"\"\n",
    "By default, read_anomalies will read all sheets presents in the document. See:\n",
    "\"\"\"\n",
    "anomalies=lablog.read_anomalies(path)\n",
    "print(len(anomalies_only_two), len(anomalies))"
   ]
  },
  {
   "cell_type": "code",
   "execution_count": null,
   "id": "ab058895",
   "metadata": {},
   "outputs": [],
   "source": []
  }
 ],
 "metadata": {
  "kernelspec": {
   "display_name": "Python 3 (ipykernel)",
   "language": "python",
   "name": "python3"
  },
  "language_info": {
   "codemirror_mode": {
    "name": "ipython",
    "version": 3
   },
   "file_extension": ".py",
   "mimetype": "text/x-python",
   "name": "python",
   "nbconvert_exporter": "python",
   "pygments_lexer": "ipython3",
   "version": "3.8.12"
  }
 },
 "nbformat": 4,
 "nbformat_minor": 5
}
