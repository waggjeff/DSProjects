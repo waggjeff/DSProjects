{
 "cells": [
  {
   "cell_type": "code",
   "execution_count": 93,
   "id": "09235193",
   "metadata": {},
   "outputs": [],
   "source": [
    "import numpy as np\n",
    "import pandas as pd\n",
    "import matplotlib.pyplot as plt\n",
    "import matplotlib as mpl\n",
    "import seaborn as sns\n",
    "\n",
    "plt.style.use(\"ggplot\")\n",
    "\n",
    "pd.set_option('display.max_columns', None)"
   ]
  },
  {
   "cell_type": "markdown",
   "id": "59d38c38",
   "metadata": {},
   "source": [
    "Load and merge the data."
   ]
  },
  {
   "cell_type": "code",
   "execution_count": 94,
   "id": "f90c7a7f",
   "metadata": {},
   "outputs": [],
   "source": [
    "path_13=\"../../data/Rockwell_Flow_Loop_Data/Flow_Loop_Data_071322_cleaned.csv\"\n",
    "path_14=\"../../data/Rockwell_Flow_Loop_Data/Flow_Loop_Data_071422_cleaned.csv\"\n",
    "path_15=\"../../data/Rockwell_Flow_Loop_Data/Flow_Loop_Data_071522_cleaned.csv\"\n",
    "path_17=\"../../data/Rockwell_Flow_Loop_Data/Flow_Loop_Data_071722_cleaned.csv\"\n",
    "path_18=\"../../data/Rockwell_Flow_Loop_Data/Flow_Loop_Data_071822_cleaned.csv\"\n",
    "path_19=\"../../data/Rockwell_Flow_Loop_Data/Flow_Loop_Data_071922_cleaned.csv\"\n",
    "path_20=\"../../data/Rockwell_Flow_Loop_Data/Flow_Loop_Data_072022_cleaned.csv\"\n",
    "path_21=\"../../data/Rockwell_Flow_Loop_Data/Flow_Loop_Data_072122_cleaned.csv\"\n",
    "path_22=\"../../data/Rockwell_Flow_Loop_Data/Flow_Loop_Data_072222_cleaned.csv\"\n",
    "path_25=\"../../data/Rockwell_Flow_Loop_Data/Flow_Loop_Data_072522_cleaned.csv\"\n",
    "path_26=\"../../data/Rockwell_Flow_Loop_Data/Flow_Loop_Data_072622_cleaned.csv\"\n",
    "path_27=\"../../data/Rockwell_Flow_Loop_Data/Flow_Loop_Data_072722_cleaned.csv\"\n",
    "path_28=\"../../data/Rockwell_Flow_Loop_Data/Flow_Loop_Data_072822_cleaned.csv\"\n",
    "path_29=\"../../data/Rockwell_Flow_Loop_Data/Flow_Loop_Data_072922_cleaned.csv\"\n",
    "path_01=\"../../data/Rockwell_Flow_Loop_Data/Flow_Loop_Data_080122_cleaned.csv\""
   ]
  },
  {
   "cell_type": "code",
   "execution_count": 95,
   "id": "1081a1db",
   "metadata": {},
   "outputs": [],
   "source": [
    "data_13=pd.read_csv(path_13)\n",
    "data_14=pd.read_csv(path_14)\n",
    "data_15=pd.read_csv(path_15)\n",
    "data_17=pd.read_csv(path_17)\n",
    "data_18=pd.read_csv(path_18)\n",
    "data_19=pd.read_csv(path_19)\n",
    "data_20=pd.read_csv(path_20)\n",
    "data_21=pd.read_csv(path_21)\n",
    "data_22=pd.read_csv(path_22)\n",
    "data_25=pd.read_csv(path_25)\n",
    "data_26=pd.read_csv(path_26)\n",
    "data_27=pd.read_csv(path_27)\n",
    "data_28=pd.read_csv(path_28)\n",
    "data_29=pd.read_csv(path_29)\n",
    "data_01=pd.read_csv(path_01)"
   ]
  },
  {
   "cell_type": "code",
   "execution_count": 96,
   "id": "9bba7f88",
   "metadata": {},
   "outputs": [],
   "source": [
    "frames = [data_13,data_14,data_15,data_17,data_18,data_19,data_20,data_21,data_22,data_25,data_26,data_27,data_28,data_29,data_01]"
   ]
  },
  {
   "cell_type": "code",
   "execution_count": 97,
   "id": "bd00829f",
   "metadata": {},
   "outputs": [],
   "source": [
    "data=pd.concat(frames)"
   ]
  },
  {
   "cell_type": "markdown",
   "id": "6052f7e8",
   "metadata": {},
   "source": [
    "Define the features and the target variable."
   ]
  },
  {
   "cell_type": "code",
   "execution_count": 98,
   "id": "ba057945",
   "metadata": {},
   "outputs": [],
   "source": [
    "X=data[[\"FIT102_Raw_Signal\",\"FIT202_Raw_Signal\",\"LIT101_Raw_Signal\",\"LIT201_Raw_Signal\",\"PIT101_Raw_Signal\",\"PIT102_Raw_Signal\",\"PIT201_Raw_Signal\",\"PIT202_Raw_Signal\",\"SI102_Raw_Signal\",\"SI202_Raw_Signal\"]]\n",
    "data[\"anomaly\"]=data[\"event\"]!=\"normal\"\n",
    "y=data[[\"anomaly\"]]"
   ]
  },
  {
   "cell_type": "code",
   "execution_count": 99,
   "id": "4243240c",
   "metadata": {},
   "outputs": [],
   "source": [
    "from sklearn.model_selection import train_test_split, GridSearchCV"
   ]
  },
  {
   "cell_type": "markdown",
   "id": "1c6e8f77",
   "metadata": {},
   "source": [
    "Create train and test dataset:"
   ]
  },
  {
   "cell_type": "code",
   "execution_count": 100,
   "id": "62a6b092",
   "metadata": {},
   "outputs": [],
   "source": [
    "X_train, X_val, y_train, y_val = train_test_split(X, y, test_size = 0.20, random_state = 100)"
   ]
  },
  {
   "cell_type": "code",
   "execution_count": 101,
   "id": "453ea971",
   "metadata": {},
   "outputs": [],
   "source": [
    "X_train=X_train.copy()\n",
    "X_val=X_val.copy()\n",
    "y_train=y_train.anomaly\n",
    "y_val=y_val.anomaly"
   ]
  },
  {
   "cell_type": "code",
   "execution_count": 102,
   "id": "bfa9de59",
   "metadata": {},
   "outputs": [],
   "source": [
    "from sklearn.preprocessing import StandardScaler\n",
    "attributes=[\"FIT102_Raw_Signal\",\"FIT202_Raw_Signal\",\"LIT101_Raw_Signal\",\"LIT201_Raw_Signal\",\"PIT101_Raw_Signal\",\"PIT102_Raw_Signal\",\"PIT201_Raw_Signal\",\"PIT202_Raw_Signal\",\"SI102_Raw_Signal\",\"SI202_Raw_Signal\"]\n",
    "scaler=StandardScaler()\n",
    "scaler.fit(X_train[attributes])\n",
    "X_train[attributes]=scaler.transform(X_train[attributes])\n",
    "X_val[attributes]=scaler.transform(X_val[attributes])"
   ]
  },
  {
   "cell_type": "code",
   "execution_count": 103,
   "id": "f2057063",
   "metadata": {},
   "outputs": [
    {
     "name": "stderr",
     "output_type": "stream",
     "text": [
      "/usr/local/Caskroom/miniforge/base/lib/python3.9/site-packages/glum/_link.py:259: UserWarning: Computing sigmoid function gave results too close to 0 or 1. Clipping.\n",
      "  warnings.warn(\n"
     ]
    },
    {
     "data": {
      "text/html": [
       "<style>#sk-container-id-6 {color: black;background-color: white;}#sk-container-id-6 pre{padding: 0;}#sk-container-id-6 div.sk-toggleable {background-color: white;}#sk-container-id-6 label.sk-toggleable__label {cursor: pointer;display: block;width: 100%;margin-bottom: 0;padding: 0.3em;box-sizing: border-box;text-align: center;}#sk-container-id-6 label.sk-toggleable__label-arrow:before {content: \"▸\";float: left;margin-right: 0.25em;color: #696969;}#sk-container-id-6 label.sk-toggleable__label-arrow:hover:before {color: black;}#sk-container-id-6 div.sk-estimator:hover label.sk-toggleable__label-arrow:before {color: black;}#sk-container-id-6 div.sk-toggleable__content {max-height: 0;max-width: 0;overflow: hidden;text-align: left;background-color: #f0f8ff;}#sk-container-id-6 div.sk-toggleable__content pre {margin: 0.2em;color: black;border-radius: 0.25em;background-color: #f0f8ff;}#sk-container-id-6 input.sk-toggleable__control:checked~div.sk-toggleable__content {max-height: 200px;max-width: 100%;overflow: auto;}#sk-container-id-6 input.sk-toggleable__control:checked~label.sk-toggleable__label-arrow:before {content: \"▾\";}#sk-container-id-6 div.sk-estimator input.sk-toggleable__control:checked~label.sk-toggleable__label {background-color: #d4ebff;}#sk-container-id-6 div.sk-label input.sk-toggleable__control:checked~label.sk-toggleable__label {background-color: #d4ebff;}#sk-container-id-6 input.sk-hidden--visually {border: 0;clip: rect(1px 1px 1px 1px);clip: rect(1px, 1px, 1px, 1px);height: 1px;margin: -1px;overflow: hidden;padding: 0;position: absolute;width: 1px;}#sk-container-id-6 div.sk-estimator {font-family: monospace;background-color: #f0f8ff;border: 1px dotted black;border-radius: 0.25em;box-sizing: border-box;margin-bottom: 0.5em;}#sk-container-id-6 div.sk-estimator:hover {background-color: #d4ebff;}#sk-container-id-6 div.sk-parallel-item::after {content: \"\";width: 100%;border-bottom: 1px solid gray;flex-grow: 1;}#sk-container-id-6 div.sk-label:hover label.sk-toggleable__label {background-color: #d4ebff;}#sk-container-id-6 div.sk-serial::before {content: \"\";position: absolute;border-left: 1px solid gray;box-sizing: border-box;top: 0;bottom: 0;left: 50%;z-index: 0;}#sk-container-id-6 div.sk-serial {display: flex;flex-direction: column;align-items: center;background-color: white;padding-right: 0.2em;padding-left: 0.2em;position: relative;}#sk-container-id-6 div.sk-item {position: relative;z-index: 1;}#sk-container-id-6 div.sk-parallel {display: flex;align-items: stretch;justify-content: center;background-color: white;position: relative;}#sk-container-id-6 div.sk-item::before, #sk-container-id-6 div.sk-parallel-item::before {content: \"\";position: absolute;border-left: 1px solid gray;box-sizing: border-box;top: 0;bottom: 0;left: 50%;z-index: -1;}#sk-container-id-6 div.sk-parallel-item {display: flex;flex-direction: column;z-index: 1;position: relative;background-color: white;}#sk-container-id-6 div.sk-parallel-item:first-child::after {align-self: flex-end;width: 50%;}#sk-container-id-6 div.sk-parallel-item:last-child::after {align-self: flex-start;width: 50%;}#sk-container-id-6 div.sk-parallel-item:only-child::after {width: 0;}#sk-container-id-6 div.sk-dashed-wrapped {border: 1px dashed gray;margin: 0 0.4em 0.5em 0.4em;box-sizing: border-box;padding-bottom: 0.4em;background-color: white;}#sk-container-id-6 div.sk-label label {font-family: monospace;font-weight: bold;display: inline-block;line-height: 1.2em;}#sk-container-id-6 div.sk-label-container {text-align: center;}#sk-container-id-6 div.sk-container {/* jupyter's `normalize.less` sets `[hidden] { display: none; }` but bootstrap.min.css set `[hidden] { display: none !important; }` so we also need the `!important` here to be able to override the default hidden behavior on the sphinx rendered scikit-learn.org. See: https://github.com/scikit-learn/scikit-learn/issues/21755 */display: inline-block !important;position: relative;}#sk-container-id-6 div.sk-text-repr-fallback {display: none;}</style><div id=\"sk-container-id-6\" class=\"sk-top-container\"><div class=\"sk-text-repr-fallback\"><pre>GeneralizedLinearRegressorCV(cv=5, family=&#x27;binomial&#x27;,\n",
       "                             l1_ratio=[0.5, 0.8, 0.9, 1], link=&#x27;logit&#x27;,\n",
       "                             max_iter=150, min_alpha=1e-05)</pre><b>In a Jupyter environment, please rerun this cell to show the HTML representation or trust the notebook. <br />On GitHub, the HTML representation is unable to render, please try loading this page with nbviewer.org.</b></div><div class=\"sk-container\" hidden><div class=\"sk-item\"><div class=\"sk-estimator sk-toggleable\"><input class=\"sk-toggleable__control sk-hidden--visually\" id=\"sk-estimator-id-6\" type=\"checkbox\" checked><label for=\"sk-estimator-id-6\" class=\"sk-toggleable__label sk-toggleable__label-arrow\">GeneralizedLinearRegressorCV</label><div class=\"sk-toggleable__content\"><pre>GeneralizedLinearRegressorCV(cv=5, family=&#x27;binomial&#x27;,\n",
       "                             l1_ratio=[0.5, 0.8, 0.9, 1], link=&#x27;logit&#x27;,\n",
       "                             max_iter=150, min_alpha=1e-05)</pre></div></div></div></div></div>"
      ],
      "text/plain": [
       "GeneralizedLinearRegressorCV(cv=5, family='binomial',\n",
       "                             l1_ratio=[0.5, 0.8, 0.9, 1], link='logit',\n",
       "                             max_iter=150, min_alpha=1e-05)"
      ]
     },
     "execution_count": 103,
     "metadata": {},
     "output_type": "execute_result"
    }
   ],
   "source": [
    "#train a lasso and/or elastic model with logistic regression, using CV \n",
    "\n",
    "#the cv in glum for binomial is done (presumably) via deviance and not accuracy, but small deviance => good accuracy in principle\n",
    "from glum import GeneralizedLinearRegressorCV\n",
    "\n",
    "lin_reg=GeneralizedLinearRegressorCV(family=\"binomial\", link=\"logit\", cv=5, \n",
    "                                     min_alpha=0.00001, l1_ratio=[0.5,0.8, 0.9,1], \n",
    "                                     fit_intercept=True,\n",
    "                                     max_iter=150)\n",
    "\n",
    "lin_reg.fit(X_train[attributes],y_train)"
   ]
  },
  {
   "cell_type": "code",
   "execution_count": 104,
   "id": "76e0e6a9",
   "metadata": {},
   "outputs": [
    {
     "name": "stdout",
     "output_type": "stream",
     "text": [
      "alpha: 1.1013234700168535e-05 , l1_ratio: 0.8\n"
     ]
    }
   ],
   "source": [
    "print(\"alpha:\", lin_reg.alpha_ ,\", l1_ratio:\", lin_reg.l1_ratio_)"
   ]
  },
  {
   "cell_type": "code",
   "execution_count": 105,
   "id": "4f00da65",
   "metadata": {},
   "outputs": [
    {
     "data": {
      "image/png": "[encoded data removed]",
      "text/plain": [
       "<Figure size 1440x432 with 1 Axes>"
      ]
     },
     "metadata": {},
     "output_type": "display_data"
    }
   ],
   "source": [
    "#plot the largest coefficients\n",
    "coefs=pd.DataFrame(lin_reg.coef_, index=X_val[attributes].columns,columns=[\"Parameter Estimates\"])\n",
    "coefs.sort_values(by=\"Parameter Estimates\",key=abs,ascending=False).plot(kind=\"bar\",figsize=(20,6));\n",
    "plt.title(\"Parameter Estimates\");"
   ]
  },
  {
   "cell_type": "code",
   "execution_count": 106,
   "id": "014adf16",
   "metadata": {},
   "outputs": [
    {
     "name": "stdout",
     "output_type": "stream",
     "text": [
      "The Baseline error is: 20.37 %\n"
     ]
    }
   ],
   "source": [
    "#Baseline accuracy by always guessing no error:\n",
    "print(\"The Baseline error is:\",round(np.sum(y_val)/len(y_val)*100,2), \"%\")"
   ]
  },
  {
   "cell_type": "code",
   "execution_count": 107,
   "id": "a01f26eb",
   "metadata": {},
   "outputs": [
    {
     "name": "stdout",
     "output_type": "stream",
     "text": [
      "Accuracy is 85.12 %\n"
     ]
    },
    {
     "name": "stderr",
     "output_type": "stream",
     "text": [
      "/usr/local/Caskroom/miniforge/base/lib/python3.9/site-packages/glum/_link.py:259: UserWarning: Computing sigmoid function gave results too close to 0 or 1. Clipping.\n",
      "  warnings.warn(\n"
     ]
    }
   ],
   "source": [
    "y_hat_val=(lin_reg.predict(X_val[attributes])>=0.5)\n",
    "from sklearn.metrics import accuracy_score\n",
    "print(\"Accuracy is\", round(accuracy_score(y_hat_val,y_val)*100,2), \"%\", )"
   ]
  },
  {
   "cell_type": "code",
   "execution_count": 108,
   "id": "d06ca344",
   "metadata": {},
   "outputs": [
    {
     "name": "stdout",
     "output_type": "stream",
     "text": [
      "F1 score of baseline is 0.0\n",
      "F1 score of glm lasso is 0.47622326038849283\n"
     ]
    }
   ],
   "source": [
    "y_baseline=np.zeros(len(y_val))\n",
    "from sklearn.metrics import f1_score\n",
    "print(\"F1 score of baseline is\", f1_score(y_val,y_baseline))\n",
    "print(\"F1 score of glm lasso is\", f1_score(y_val,y_hat_val))"
   ]
  },
  {
   "cell_type": "markdown",
   "id": "b9584cc9",
   "metadata": {},
   "source": [
    "Now run XGBoost instead:"
   ]
  },
  {
   "cell_type": "code",
   "execution_count": 109,
   "id": "b95d870c",
   "metadata": {},
   "outputs": [
    {
     "name": "stdout",
     "output_type": "stream",
     "text": [
      "Best parameters: {'gamma': 0.1, 'learning_rate': 0.1, 'max_depth': 6, 'n_estimators': 100} , Best CV Accuracy: 0.9670831062479912\n"
     ]
    }
   ],
   "source": [
    "from xgboost import XGBClassifier\n",
    "from sklearn.model_selection import GridSearchCV\n",
    "\n",
    "xgb=XGBClassifier(objective=\"binary:logistic\",use_label_encoder=False)\n",
    "parameters={\"n_estimators\":[100], \"learning_rate\":[0.1], \"max_depth\":[6], \"gamma\":[0.1]}\n",
    "\n",
    "xgb_cv=GridSearchCV(xgb, parameters, scoring=\"accuracy\",cv=2)\n",
    "xgb_cv.fit(X_train,y_train)\n",
    "\n",
    "print(\"Best parameters:\", xgb_cv.best_params_ , \", Best CV Accuracy:\", xgb_cv.best_score_)"
   ]
  },
  {
   "cell_type": "code",
   "execution_count": 110,
   "id": "9cdbd409",
   "metadata": {},
   "outputs": [
    {
     "name": "stdout",
     "output_type": "stream",
     "text": [
      "XGBC has test accuracy 96.69 %\n"
     ]
    }
   ],
   "source": [
    "#prediction\n",
    "y_hat=xgb_cv.best_estimator_.predict(X_val)\n",
    "print(\"XGBC has test accuracy\", round(100*(accuracy_score(y_hat,y_val)),2), \"%\")"
   ]
  },
  {
   "cell_type": "code",
   "execution_count": 111,
   "id": "d7559678",
   "metadata": {},
   "outputs": [
    {
     "data": {
      "image/png": "[encoded data removed]",
      "text/plain": [
       "<Figure size 1440x432 with 1 Axes>"
      ]
     },
     "metadata": {},
     "output_type": "display_data"
    }
   ],
   "source": [
    "#plot feature importance of xgb\n",
    "importance_df=pd.DataFrame(xgb_cv.best_estimator_.feature_importances_, \n",
    "                           index=X_train.columns, columns=[\"Feature Importance\"])\n",
    "\n",
    "importance_df.sort_values(by=\"Feature Importance\", ascending=False).head(10).plot(kind=\"bar\",figsize=(20,6));"
   ]
  },
  {
   "cell_type": "code",
   "execution_count": 112,
   "id": "41629bd7",
   "metadata": {},
   "outputs": [
    {
     "name": "stdout",
     "output_type": "stream",
     "text": [
      "F1 score of baseline is 0.44329824725184963\n",
      "F1 score of xgb is 0.9460528961761556\n",
      "F1 score of baseline is 0.0\n",
      "F1 score of xgb is 0.9125216941767291\n"
     ]
    }
   ],
   "source": [
    "y_baseline=np.zeros(len(y_val))\n",
    "\n",
    "from sklearn.metrics import f1_score\n",
    "\n",
    "print(\"F1 score of baseline is\", f1_score(y_val,y_baseline, average=\"macro\"))\n",
    "print(\"F1 score of xgb is\", f1_score(y_val,y_hat, average=\"macro\"))\n",
    "print(\"F1 score of baseline is\", f1_score(y_val,y_baseline))\n",
    "print(\"F1 score of xgb is\", f1_score(y_val,y_hat))"
   ]
  },
  {
   "cell_type": "markdown",
   "id": "4c990921",
   "metadata": {},
   "source": [
    "Now we introduce the means of the gradients. For this, we load the full dataset: "
   ]
  },
  {
   "cell_type": "code",
   "execution_count": 113,
   "id": "fe2db20a",
   "metadata": {},
   "outputs": [
    {
     "data": {
      "text/html": [
       "<div>\n",
       "<style scoped>\n",
       "    .dataframe tbody tr th:only-of-type {\n",
       "        vertical-align: middle;\n",
       "    }\n",
       "\n",
       "    .dataframe tbody tr th {\n",
       "        vertical-align: top;\n",
       "    }\n",
       "\n",
       "    .dataframe thead th {\n",
       "        text-align: right;\n",
       "    }\n",
       "</style>\n",
       "<table border=\"1\" class=\"dataframe\">\n",
       "  <thead>\n",
       "    <tr style=\"text-align: right;\">\n",
       "      <th></th>\n",
       "      <th>Unnamed: 0</th>\n",
       "      <th>max_FIT102_Raw_Signal</th>\n",
       "      <th>min_FIT102_Raw_Signal</th>\n",
       "      <th>mean_FIT102_Raw_Signal</th>\n",
       "      <th>std_FIT102_Raw_Signal</th>\n",
       "      <th>max_FIT202_Raw_Signal</th>\n",
       "      <th>min_FIT202_Raw_Signal</th>\n",
       "      <th>mean_FIT202_Raw_Signal</th>\n",
       "      <th>std_FIT202_Raw_Signal</th>\n",
       "      <th>max_LIT101_Raw_Signal</th>\n",
       "      <th>min_LIT101_Raw_Signal</th>\n",
       "      <th>mean_LIT101_Raw_Signal</th>\n",
       "      <th>std_LIT101_Raw_Signal</th>\n",
       "      <th>max_LIT201_Raw_Signal</th>\n",
       "      <th>min_LIT201_Raw_Signal</th>\n",
       "      <th>mean_LIT201_Raw_Signal</th>\n",
       "      <th>std_LIT201_Raw_Signal</th>\n",
       "      <th>max_PIT101_Raw_Signal</th>\n",
       "      <th>min_PIT101_Raw_Signal</th>\n",
       "      <th>mean_PIT101_Raw_Signal</th>\n",
       "      <th>std_PIT101_Raw_Signal</th>\n",
       "      <th>max_PIT102_Raw_Signal</th>\n",
       "      <th>min_PIT102_Raw_Signal</th>\n",
       "      <th>mean_PIT102_Raw_Signal</th>\n",
       "      <th>std_PIT102_Raw_Signal</th>\n",
       "      <th>max_PIT201_Raw_Signal</th>\n",
       "      <th>min_PIT201_Raw_Signal</th>\n",
       "      <th>mean_PIT201_Raw_Signal</th>\n",
       "      <th>std_PIT201_Raw_Signal</th>\n",
       "      <th>max_PIT202_Raw_Signal</th>\n",
       "      <th>min_PIT202_Raw_Signal</th>\n",
       "      <th>mean_PIT202_Raw_Signal</th>\n",
       "      <th>std_PIT202_Raw_Signal</th>\n",
       "      <th>max_SI102_Raw_Signal</th>\n",
       "      <th>min_SI102_Raw_Signal</th>\n",
       "      <th>mean_SI102_Raw_Signal</th>\n",
       "      <th>std_SI102_Raw_Signal</th>\n",
       "      <th>max_SI202_Raw_Signal</th>\n",
       "      <th>min_SI202_Raw_Signal</th>\n",
       "      <th>mean_SI202_Raw_Signal</th>\n",
       "      <th>std_SI202_Raw_Signal</th>\n",
       "      <th>event</th>\n",
       "      <th>binary</th>\n",
       "      <th>ternary</th>\n",
       "    </tr>\n",
       "  </thead>\n",
       "  <tbody>\n",
       "    <tr>\n",
       "      <th>0</th>\n",
       "      <td>2022-07-13 09:13:09</td>\n",
       "      <td>4.30</td>\n",
       "      <td>-4.28</td>\n",
       "      <td>-0.248235</td>\n",
       "      <td>2.485488</td>\n",
       "      <td>2.68</td>\n",
       "      <td>-4.32</td>\n",
       "      <td>-0.040000</td>\n",
       "      <td>1.948820</td>\n",
       "      <td>2.50</td>\n",
       "      <td>-2.28</td>\n",
       "      <td>-0.052941</td>\n",
       "      <td>1.501149</td>\n",
       "      <td>0.32</td>\n",
       "      <td>-0.32</td>\n",
       "      <td>-0.032941</td>\n",
       "      <td>0.235366</td>\n",
       "      <td>0.10</td>\n",
       "      <td>-0.18</td>\n",
       "      <td>0.002353</td>\n",
       "      <td>0.077098</td>\n",
       "      <td>1.04</td>\n",
       "      <td>-1.00</td>\n",
       "      <td>-2.612289e-17</td>\n",
       "      <td>0.648151</td>\n",
       "      <td>0.36</td>\n",
       "      <td>-0.80</td>\n",
       "      <td>-0.020000</td>\n",
       "      <td>0.320624</td>\n",
       "      <td>0.44</td>\n",
       "      <td>-0.46</td>\n",
       "      <td>0.008235</td>\n",
       "      <td>0.281164</td>\n",
       "      <td>4.60</td>\n",
       "      <td>-5.52</td>\n",
       "      <td>0.112941</td>\n",
       "      <td>3.532336</td>\n",
       "      <td>3.36</td>\n",
       "      <td>-3.78</td>\n",
       "      <td>0.144706</td>\n",
       "      <td>2.021256</td>\n",
       "      <td>normal</td>\n",
       "      <td>normal</td>\n",
       "      <td>normal</td>\n",
       "    </tr>\n",
       "    <tr>\n",
       "      <th>1</th>\n",
       "      <td>2022-07-13 09:13:39</td>\n",
       "      <td>4.58</td>\n",
       "      <td>-3.32</td>\n",
       "      <td>0.001176</td>\n",
       "      <td>2.543123</td>\n",
       "      <td>2.26</td>\n",
       "      <td>-5.88</td>\n",
       "      <td>-0.301176</td>\n",
       "      <td>2.072203</td>\n",
       "      <td>2.56</td>\n",
       "      <td>-2.54</td>\n",
       "      <td>-0.140000</td>\n",
       "      <td>1.460856</td>\n",
       "      <td>0.38</td>\n",
       "      <td>-0.32</td>\n",
       "      <td>0.014118</td>\n",
       "      <td>0.248572</td>\n",
       "      <td>0.18</td>\n",
       "      <td>-0.18</td>\n",
       "      <td>0.002353</td>\n",
       "      <td>0.093777</td>\n",
       "      <td>0.76</td>\n",
       "      <td>-1.00</td>\n",
       "      <td>-1.764706e-02</td>\n",
       "      <td>0.500843</td>\n",
       "      <td>0.32</td>\n",
       "      <td>-0.52</td>\n",
       "      <td>-0.001176</td>\n",
       "      <td>0.270414</td>\n",
       "      <td>0.60</td>\n",
       "      <td>-0.68</td>\n",
       "      <td>0.010588</td>\n",
       "      <td>0.337870</td>\n",
       "      <td>4.60</td>\n",
       "      <td>-5.52</td>\n",
       "      <td>-0.005882</td>\n",
       "      <td>2.935633</td>\n",
       "      <td>5.50</td>\n",
       "      <td>-4.86</td>\n",
       "      <td>0.216471</td>\n",
       "      <td>2.585239</td>\n",
       "      <td>normal</td>\n",
       "      <td>normal</td>\n",
       "      <td>normal</td>\n",
       "    </tr>\n",
       "    <tr>\n",
       "      <th>2</th>\n",
       "      <td>2022-07-13 09:14:09</td>\n",
       "      <td>5.10</td>\n",
       "      <td>-3.80</td>\n",
       "      <td>0.071765</td>\n",
       "      <td>2.814365</td>\n",
       "      <td>5.16</td>\n",
       "      <td>-5.88</td>\n",
       "      <td>-0.015294</td>\n",
       "      <td>2.419654</td>\n",
       "      <td>2.56</td>\n",
       "      <td>-2.54</td>\n",
       "      <td>-0.109412</td>\n",
       "      <td>1.563699</td>\n",
       "      <td>0.38</td>\n",
       "      <td>-0.32</td>\n",
       "      <td>0.038824</td>\n",
       "      <td>0.231460</td>\n",
       "      <td>0.18</td>\n",
       "      <td>-0.16</td>\n",
       "      <td>-0.007059</td>\n",
       "      <td>0.072091</td>\n",
       "      <td>0.76</td>\n",
       "      <td>-1.18</td>\n",
       "      <td>-2.941176e-02</td>\n",
       "      <td>0.583186</td>\n",
       "      <td>0.30</td>\n",
       "      <td>-0.40</td>\n",
       "      <td>0.004706</td>\n",
       "      <td>0.209944</td>\n",
       "      <td>0.60</td>\n",
       "      <td>-0.68</td>\n",
       "      <td>-0.031765</td>\n",
       "      <td>0.301169</td>\n",
       "      <td>4.52</td>\n",
       "      <td>-7.34</td>\n",
       "      <td>-0.094118</td>\n",
       "      <td>3.015840</td>\n",
       "      <td>5.50</td>\n",
       "      <td>-4.86</td>\n",
       "      <td>0.003529</td>\n",
       "      <td>2.354902</td>\n",
       "      <td>normal</td>\n",
       "      <td>normal</td>\n",
       "      <td>normal</td>\n",
       "    </tr>\n",
       "    <tr>\n",
       "      <th>3</th>\n",
       "      <td>2022-07-13 09:14:39</td>\n",
       "      <td>5.10</td>\n",
       "      <td>-3.80</td>\n",
       "      <td>-0.042353</td>\n",
       "      <td>2.228765</td>\n",
       "      <td>5.16</td>\n",
       "      <td>-5.88</td>\n",
       "      <td>0.134118</td>\n",
       "      <td>2.475508</td>\n",
       "      <td>1.86</td>\n",
       "      <td>-2.54</td>\n",
       "      <td>-0.074118</td>\n",
       "      <td>1.471713</td>\n",
       "      <td>0.38</td>\n",
       "      <td>-0.50</td>\n",
       "      <td>0.008235</td>\n",
       "      <td>0.209411</td>\n",
       "      <td>0.18</td>\n",
       "      <td>-0.16</td>\n",
       "      <td>-0.001176</td>\n",
       "      <td>0.086450</td>\n",
       "      <td>0.68</td>\n",
       "      <td>-1.18</td>\n",
       "      <td>1.176471e-02</td>\n",
       "      <td>0.474608</td>\n",
       "      <td>0.30</td>\n",
       "      <td>-0.40</td>\n",
       "      <td>-0.005882</td>\n",
       "      <td>0.227130</td>\n",
       "      <td>0.60</td>\n",
       "      <td>-0.68</td>\n",
       "      <td>-0.003529</td>\n",
       "      <td>0.346355</td>\n",
       "      <td>3.32</td>\n",
       "      <td>-7.34</td>\n",
       "      <td>0.070588</td>\n",
       "      <td>2.370318</td>\n",
       "      <td>5.50</td>\n",
       "      <td>-4.86</td>\n",
       "      <td>0.007059</td>\n",
       "      <td>2.695959</td>\n",
       "      <td>normal</td>\n",
       "      <td>normal</td>\n",
       "      <td>normal</td>\n",
       "    </tr>\n",
       "    <tr>\n",
       "      <th>4</th>\n",
       "      <td>2022-07-13 09:15:09</td>\n",
       "      <td>5.10</td>\n",
       "      <td>-3.80</td>\n",
       "      <td>0.175294</td>\n",
       "      <td>2.095346</td>\n",
       "      <td>2.74</td>\n",
       "      <td>-3.54</td>\n",
       "      <td>-0.143529</td>\n",
       "      <td>1.719989</td>\n",
       "      <td>1.86</td>\n",
       "      <td>-1.64</td>\n",
       "      <td>-0.080000</td>\n",
       "      <td>1.341343</td>\n",
       "      <td>0.34</td>\n",
       "      <td>-0.50</td>\n",
       "      <td>0.012941</td>\n",
       "      <td>0.201115</td>\n",
       "      <td>0.20</td>\n",
       "      <td>-0.12</td>\n",
       "      <td>0.007059</td>\n",
       "      <td>0.084244</td>\n",
       "      <td>3.44</td>\n",
       "      <td>-1.18</td>\n",
       "      <td>2.141176e-01</td>\n",
       "      <td>0.952070</td>\n",
       "      <td>0.60</td>\n",
       "      <td>-0.46</td>\n",
       "      <td>-0.008235</td>\n",
       "      <td>0.258849</td>\n",
       "      <td>0.58</td>\n",
       "      <td>-0.90</td>\n",
       "      <td>0.010588</td>\n",
       "      <td>0.390904</td>\n",
       "      <td>2.88</td>\n",
       "      <td>-7.34</td>\n",
       "      <td>-0.021176</td>\n",
       "      <td>2.296775</td>\n",
       "      <td>4.10</td>\n",
       "      <td>-4.10</td>\n",
       "      <td>-0.045882</td>\n",
       "      <td>2.096411</td>\n",
       "      <td>normal</td>\n",
       "      <td>normal</td>\n",
       "      <td>normal</td>\n",
       "    </tr>\n",
       "  </tbody>\n",
       "</table>\n",
       "</div>"
      ],
      "text/plain": [
       "            Unnamed: 0  max_FIT102_Raw_Signal  min_FIT102_Raw_Signal  \\\n",
       "0  2022-07-13 09:13:09                   4.30                  -4.28   \n",
       "1  2022-07-13 09:13:39                   4.58                  -3.32   \n",
       "2  2022-07-13 09:14:09                   5.10                  -3.80   \n",
       "3  2022-07-13 09:14:39                   5.10                  -3.80   \n",
       "4  2022-07-13 09:15:09                   5.10                  -3.80   \n",
       "\n",
       "   mean_FIT102_Raw_Signal  std_FIT102_Raw_Signal  max_FIT202_Raw_Signal  \\\n",
       "0               -0.248235               2.485488                   2.68   \n",
       "1                0.001176               2.543123                   2.26   \n",
       "2                0.071765               2.814365                   5.16   \n",
       "3               -0.042353               2.228765                   5.16   \n",
       "4                0.175294               2.095346                   2.74   \n",
       "\n",
       "   min_FIT202_Raw_Signal  mean_FIT202_Raw_Signal  std_FIT202_Raw_Signal  \\\n",
       "0                  -4.32               -0.040000               1.948820   \n",
       "1                  -5.88               -0.301176               2.072203   \n",
       "2                  -5.88               -0.015294               2.419654   \n",
       "3                  -5.88                0.134118               2.475508   \n",
       "4                  -3.54               -0.143529               1.719989   \n",
       "\n",
       "   max_LIT101_Raw_Signal  min_LIT101_Raw_Signal  mean_LIT101_Raw_Signal  \\\n",
       "0                   2.50                  -2.28               -0.052941   \n",
       "1                   2.56                  -2.54               -0.140000   \n",
       "2                   2.56                  -2.54               -0.109412   \n",
       "3                   1.86                  -2.54               -0.074118   \n",
       "4                   1.86                  -1.64               -0.080000   \n",
       "\n",
       "   std_LIT101_Raw_Signal  max_LIT201_Raw_Signal  min_LIT201_Raw_Signal  \\\n",
       "0               1.501149                   0.32                  -0.32   \n",
       "1               1.460856                   0.38                  -0.32   \n",
       "2               1.563699                   0.38                  -0.32   \n",
       "3               1.471713                   0.38                  -0.50   \n",
       "4               1.341343                   0.34                  -0.50   \n",
       "\n",
       "   mean_LIT201_Raw_Signal  std_LIT201_Raw_Signal  max_PIT101_Raw_Signal  \\\n",
       "0               -0.032941               0.235366                   0.10   \n",
       "1                0.014118               0.248572                   0.18   \n",
       "2                0.038824               0.231460                   0.18   \n",
       "3                0.008235               0.209411                   0.18   \n",
       "4                0.012941               0.201115                   0.20   \n",
       "\n",
       "   min_PIT101_Raw_Signal  mean_PIT101_Raw_Signal  std_PIT101_Raw_Signal  \\\n",
       "0                  -0.18                0.002353               0.077098   \n",
       "1                  -0.18                0.002353               0.093777   \n",
       "2                  -0.16               -0.007059               0.072091   \n",
       "3                  -0.16               -0.001176               0.086450   \n",
       "4                  -0.12                0.007059               0.084244   \n",
       "\n",
       "   max_PIT102_Raw_Signal  min_PIT102_Raw_Signal  mean_PIT102_Raw_Signal  \\\n",
       "0                   1.04                  -1.00           -2.612289e-17   \n",
       "1                   0.76                  -1.00           -1.764706e-02   \n",
       "2                   0.76                  -1.18           -2.941176e-02   \n",
       "3                   0.68                  -1.18            1.176471e-02   \n",
       "4                   3.44                  -1.18            2.141176e-01   \n",
       "\n",
       "   std_PIT102_Raw_Signal  max_PIT201_Raw_Signal  min_PIT201_Raw_Signal  \\\n",
       "0               0.648151                   0.36                  -0.80   \n",
       "1               0.500843                   0.32                  -0.52   \n",
       "2               0.583186                   0.30                  -0.40   \n",
       "3               0.474608                   0.30                  -0.40   \n",
       "4               0.952070                   0.60                  -0.46   \n",
       "\n",
       "   mean_PIT201_Raw_Signal  std_PIT201_Raw_Signal  max_PIT202_Raw_Signal  \\\n",
       "0               -0.020000               0.320624                   0.44   \n",
       "1               -0.001176               0.270414                   0.60   \n",
       "2                0.004706               0.209944                   0.60   \n",
       "3               -0.005882               0.227130                   0.60   \n",
       "4               -0.008235               0.258849                   0.58   \n",
       "\n",
       "   min_PIT202_Raw_Signal  mean_PIT202_Raw_Signal  std_PIT202_Raw_Signal  \\\n",
       "0                  -0.46                0.008235               0.281164   \n",
       "1                  -0.68                0.010588               0.337870   \n",
       "2                  -0.68               -0.031765               0.301169   \n",
       "3                  -0.68               -0.003529               0.346355   \n",
       "4                  -0.90                0.010588               0.390904   \n",
       "\n",
       "   max_SI102_Raw_Signal  min_SI102_Raw_Signal  mean_SI102_Raw_Signal  \\\n",
       "0                  4.60                 -5.52               0.112941   \n",
       "1                  4.60                 -5.52              -0.005882   \n",
       "2                  4.52                 -7.34              -0.094118   \n",
       "3                  3.32                 -7.34               0.070588   \n",
       "4                  2.88                 -7.34              -0.021176   \n",
       "\n",
       "   std_SI102_Raw_Signal  max_SI202_Raw_Signal  min_SI202_Raw_Signal  \\\n",
       "0              3.532336                  3.36                 -3.78   \n",
       "1              2.935633                  5.50                 -4.86   \n",
       "2              3.015840                  5.50                 -4.86   \n",
       "3              2.370318                  5.50                 -4.86   \n",
       "4              2.296775                  4.10                 -4.10   \n",
       "\n",
       "   mean_SI202_Raw_Signal  std_SI202_Raw_Signal   event  binary ternary  \n",
       "0               0.144706              2.021256  normal  normal  normal  \n",
       "1               0.216471              2.585239  normal  normal  normal  \n",
       "2               0.003529              2.354902  normal  normal  normal  \n",
       "3               0.007059              2.695959  normal  normal  normal  \n",
       "4              -0.045882              2.096411  normal  normal  normal  "
      ]
     },
     "execution_count": 113,
     "metadata": {},
     "output_type": "execute_result"
    }
   ],
   "source": [
    "path=\"../../data/Rockwell_Flow_Loop_Data/final_columns.csv\"\n",
    "data=pd.read_csv(path)\n",
    "data.head(5)"
   ]
  },
  {
   "cell_type": "code",
   "execution_count": 114,
   "id": "3efe2d06",
   "metadata": {},
   "outputs": [],
   "source": [
    "X_full=data[[\"max_FIT102_Raw_Signal\",\"min_FIT102_Raw_Signal\",\"mean_FIT102_Raw_Signal\",\"std_FIT102_Raw_Signal\",\"max_FIT202_Raw_Signal\",\"min_FIT202_Raw_Signal\",\"mean_FIT202_Raw_Signal\",\"std_FIT202_Raw_Signal\",\"max_LIT101_Raw_Signal\",\"min_LIT101_Raw_Signal\",\"mean_LIT101_Raw_Signal\",\"std_LIT101_Raw_Signal\",\"max_LIT201_Raw_Signal\",\"min_LIT201_Raw_Signal\",\"mean_LIT201_Raw_Signal\",\"std_LIT201_Raw_Signal\",\"max_PIT101_Raw_Signal\",\"min_PIT101_Raw_Signal\",\"mean_PIT101_Raw_Signal\",\"std_PIT101_Raw_Signal\",\"max_PIT102_Raw_Signal\",\"min_PIT102_Raw_Signal\",\"mean_PIT102_Raw_Signal\",\"std_PIT102_Raw_Signal\",\"max_PIT201_Raw_Signal\",\"min_PIT201_Raw_Signal\",\"mean_PIT201_Raw_Signal\",\"std_PIT201_Raw_Signal\",\"max_PIT202_Raw_Signal\",\"min_PIT202_Raw_Signal\",\"mean_PIT202_Raw_Signal\",\"std_PIT202_Raw_Signal\",\"max_SI102_Raw_Signal\",\"min_SI102_Raw_Signal\",\"mean_SI102_Raw_Signal\",\"std_SI102_Raw_Signal\",\"max_SI202_Raw_Signal\",\"min_SI202_Raw_Signal\",\"mean_SI202_Raw_Signal\",\"std_SI202_Raw_Signal\"]]\n",
    "X_full_std=data[[\"mean_FIT102_Raw_Signal\",\"std_FIT102_Raw_Signal\",\"mean_FIT202_Raw_Signal\",\"std_FIT202_Raw_Signal\",\"mean_LIT101_Raw_Signal\",\"std_LIT101_Raw_Signal\",\"mean_LIT201_Raw_Signal\",\"std_LIT201_Raw_Signal\",\"mean_PIT101_Raw_Signal\",\"std_PIT101_Raw_Signal\",\"mean_PIT102_Raw_Signal\",\"std_PIT102_Raw_Signal\",\"mean_PIT201_Raw_Signal\",\"std_PIT201_Raw_Signal\",\"mean_PIT202_Raw_Signal\",\"std_PIT202_Raw_Signal\",\"mean_SI102_Raw_Signal\",\"std_SI102_Raw_Signal\",\"mean_SI202_Raw_Signal\",\"std_SI202_Raw_Signal\"]]\n",
    "data[\"anomaly\"]=data[\"event\"]!=\"normal\"\n",
    "y_full=data[[\"anomaly\"]]"
   ]
  },
  {
   "cell_type": "code",
   "execution_count": 115,
   "id": "5942e84e",
   "metadata": {},
   "outputs": [],
   "source": [
    "X_train_full_std, X_test_full_std, y_train_full, y_test_full = train_test_split(X_full_std, y_full, test_size = 0.20, random_state = 100)"
   ]
  },
  {
   "cell_type": "code",
   "execution_count": 116,
   "id": "fa8ba340",
   "metadata": {},
   "outputs": [],
   "source": [
    "X_train_full_std=X_train_full_std.copy()\n",
    "X_test_full_std=X_test_full_std.copy()\n",
    "y_train_full=y_train_full.anomaly\n",
    "y_test_full=y_test_full.anomaly"
   ]
  },
  {
   "cell_type": "code",
   "execution_count": 117,
   "id": "3ac7ef03",
   "metadata": {},
   "outputs": [],
   "source": [
    "attributes=[\"mean_FIT102_Raw_Signal\",\"std_FIT102_Raw_Signal\",\"mean_FIT202_Raw_Signal\",\"std_FIT202_Raw_Signal\",\"mean_LIT101_Raw_Signal\",\"std_LIT101_Raw_Signal\",\"mean_LIT201_Raw_Signal\",\"std_LIT201_Raw_Signal\",\"mean_PIT101_Raw_Signal\",\"std_PIT101_Raw_Signal\",\"mean_PIT102_Raw_Signal\",\"std_PIT102_Raw_Signal\",\"mean_PIT201_Raw_Signal\",\"std_PIT201_Raw_Signal\",\"mean_PIT202_Raw_Signal\",\"std_PIT202_Raw_Signal\",\"mean_SI102_Raw_Signal\",\"std_SI102_Raw_Signal\",\"mean_SI202_Raw_Signal\",\"std_SI202_Raw_Signal\"]\n",
    "scaler=StandardScaler()\n",
    "scaler.fit(X_train_full_std[attributes])\n",
    "X_train_full_std[attributes]=scaler.transform(X_train_full_std[attributes])\n",
    "X_test_full_std[attributes]=scaler.transform(X_test_full_std[attributes])"
   ]
  },
  {
   "cell_type": "code",
   "execution_count": 118,
   "id": "786a3736",
   "metadata": {},
   "outputs": [
    {
     "data": {
      "text/html": [
       "<style>#sk-container-id-7 {color: black;background-color: white;}#sk-container-id-7 pre{padding: 0;}#sk-container-id-7 div.sk-toggleable {background-color: white;}#sk-container-id-7 label.sk-toggleable__label {cursor: pointer;display: block;width: 100%;margin-bottom: 0;padding: 0.3em;box-sizing: border-box;text-align: center;}#sk-container-id-7 label.sk-toggleable__label-arrow:before {content: \"▸\";float: left;margin-right: 0.25em;color: #696969;}#sk-container-id-7 label.sk-toggleable__label-arrow:hover:before {color: black;}#sk-container-id-7 div.sk-estimator:hover label.sk-toggleable__label-arrow:before {color: black;}#sk-container-id-7 div.sk-toggleable__content {max-height: 0;max-width: 0;overflow: hidden;text-align: left;background-color: #f0f8ff;}#sk-container-id-7 div.sk-toggleable__content pre {margin: 0.2em;color: black;border-radius: 0.25em;background-color: #f0f8ff;}#sk-container-id-7 input.sk-toggleable__control:checked~div.sk-toggleable__content {max-height: 200px;max-width: 100%;overflow: auto;}#sk-container-id-7 input.sk-toggleable__control:checked~label.sk-toggleable__label-arrow:before {content: \"▾\";}#sk-container-id-7 div.sk-estimator input.sk-toggleable__control:checked~label.sk-toggleable__label {background-color: #d4ebff;}#sk-container-id-7 div.sk-label input.sk-toggleable__control:checked~label.sk-toggleable__label {background-color: #d4ebff;}#sk-container-id-7 input.sk-hidden--visually {border: 0;clip: rect(1px 1px 1px 1px);clip: rect(1px, 1px, 1px, 1px);height: 1px;margin: -1px;overflow: hidden;padding: 0;position: absolute;width: 1px;}#sk-container-id-7 div.sk-estimator {font-family: monospace;background-color: #f0f8ff;border: 1px dotted black;border-radius: 0.25em;box-sizing: border-box;margin-bottom: 0.5em;}#sk-container-id-7 div.sk-estimator:hover {background-color: #d4ebff;}#sk-container-id-7 div.sk-parallel-item::after {content: \"\";width: 100%;border-bottom: 1px solid gray;flex-grow: 1;}#sk-container-id-7 div.sk-label:hover label.sk-toggleable__label {background-color: #d4ebff;}#sk-container-id-7 div.sk-serial::before {content: \"\";position: absolute;border-left: 1px solid gray;box-sizing: border-box;top: 0;bottom: 0;left: 50%;z-index: 0;}#sk-container-id-7 div.sk-serial {display: flex;flex-direction: column;align-items: center;background-color: white;padding-right: 0.2em;padding-left: 0.2em;position: relative;}#sk-container-id-7 div.sk-item {position: relative;z-index: 1;}#sk-container-id-7 div.sk-parallel {display: flex;align-items: stretch;justify-content: center;background-color: white;position: relative;}#sk-container-id-7 div.sk-item::before, #sk-container-id-7 div.sk-parallel-item::before {content: \"\";position: absolute;border-left: 1px solid gray;box-sizing: border-box;top: 0;bottom: 0;left: 50%;z-index: -1;}#sk-container-id-7 div.sk-parallel-item {display: flex;flex-direction: column;z-index: 1;position: relative;background-color: white;}#sk-container-id-7 div.sk-parallel-item:first-child::after {align-self: flex-end;width: 50%;}#sk-container-id-7 div.sk-parallel-item:last-child::after {align-self: flex-start;width: 50%;}#sk-container-id-7 div.sk-parallel-item:only-child::after {width: 0;}#sk-container-id-7 div.sk-dashed-wrapped {border: 1px dashed gray;margin: 0 0.4em 0.5em 0.4em;box-sizing: border-box;padding-bottom: 0.4em;background-color: white;}#sk-container-id-7 div.sk-label label {font-family: monospace;font-weight: bold;display: inline-block;line-height: 1.2em;}#sk-container-id-7 div.sk-label-container {text-align: center;}#sk-container-id-7 div.sk-container {/* jupyter's `normalize.less` sets `[hidden] { display: none; }` but bootstrap.min.css set `[hidden] { display: none !important; }` so we also need the `!important` here to be able to override the default hidden behavior on the sphinx rendered scikit-learn.org. See: https://github.com/scikit-learn/scikit-learn/issues/21755 */display: inline-block !important;position: relative;}#sk-container-id-7 div.sk-text-repr-fallback {display: none;}</style><div id=\"sk-container-id-7\" class=\"sk-top-container\"><div class=\"sk-text-repr-fallback\"><pre>GeneralizedLinearRegressorCV(cv=5, family=&#x27;binomial&#x27;,\n",
       "                             l1_ratio=[0.5, 0.8, 0.9, 1], link=&#x27;logit&#x27;,\n",
       "                             max_iter=150, min_alpha=1e-06)</pre><b>In a Jupyter environment, please rerun this cell to show the HTML representation or trust the notebook. <br />On GitHub, the HTML representation is unable to render, please try loading this page with nbviewer.org.</b></div><div class=\"sk-container\" hidden><div class=\"sk-item\"><div class=\"sk-estimator sk-toggleable\"><input class=\"sk-toggleable__control sk-hidden--visually\" id=\"sk-estimator-id-7\" type=\"checkbox\" checked><label for=\"sk-estimator-id-7\" class=\"sk-toggleable__label sk-toggleable__label-arrow\">GeneralizedLinearRegressorCV</label><div class=\"sk-toggleable__content\"><pre>GeneralizedLinearRegressorCV(cv=5, family=&#x27;binomial&#x27;,\n",
       "                             l1_ratio=[0.5, 0.8, 0.9, 1], link=&#x27;logit&#x27;,\n",
       "                             max_iter=150, min_alpha=1e-06)</pre></div></div></div></div></div>"
      ],
      "text/plain": [
       "GeneralizedLinearRegressorCV(cv=5, family='binomial',\n",
       "                             l1_ratio=[0.5, 0.8, 0.9, 1], link='logit',\n",
       "                             max_iter=150, min_alpha=1e-06)"
      ]
     },
     "execution_count": 118,
     "metadata": {},
     "output_type": "execute_result"
    }
   ],
   "source": [
    "#train a lasso and/or elastic model with logistic regression, using CV \n",
    "\n",
    "#the cv in glum for binomial is done (presumably) via deviance and not accuracy, but small deviance => good accuracy in principle\n",
    "from glum import GeneralizedLinearRegressorCV\n",
    "\n",
    "lin_reg2=GeneralizedLinearRegressorCV(family=\"binomial\", link=\"logit\", cv=5, \n",
    "                                     min_alpha=0.000001, l1_ratio=[0.5,0.8, 0.9,1], \n",
    "                                     fit_intercept=True,\n",
    "                                     max_iter=150)\n",
    "\n",
    "lin_reg2.fit(X_train_full[attributes],y_train_full)"
   ]
  },
  {
   "cell_type": "code",
   "execution_count": 121,
   "id": "2c2b2cf3",
   "metadata": {},
   "outputs": [
    {
     "name": "stdout",
     "output_type": "stream",
     "text": [
      "alpha: 0.002832253123845142 , l1_ratio: 0.5\n"
     ]
    }
   ],
   "source": [
    "print(\"alpha:\", lin_reg2.alpha_ ,\", l1_ratio:\", lin_reg2.l1_ratio_)"
   ]
  },
  {
   "cell_type": "code",
   "execution_count": 123,
   "id": "107d51a8",
   "metadata": {},
   "outputs": [
    {
     "data": {
      "image/png": "[encoded data removed]",
      "text/plain": [
       "<Figure size 1440x432 with 1 Axes>"
      ]
     },
     "metadata": {},
     "output_type": "display_data"
    }
   ],
   "source": [
    "#plot the largest coefficients\n",
    "coefs=pd.DataFrame(lin_reg2.coef_, index=X_test_full_std[attributes].columns,columns=[\"Parameter Estimates\"])\n",
    "coefs.sort_values(by=\"Parameter Estimates\",key=abs,ascending=False).plot(kind=\"bar\",figsize=(20,6));\n",
    "plt.title(\"Parameter Estimates\");"
   ]
  },
  {
   "cell_type": "code",
   "execution_count": 124,
   "id": "e0797098",
   "metadata": {},
   "outputs": [
    {
     "name": "stdout",
     "output_type": "stream",
     "text": [
      "The Baseline error is: 20.73 %\n"
     ]
    }
   ],
   "source": [
    "#Baseline accuracy by always guessing no error:\n",
    "print(\"The Baseline error is:\",round(np.sum(y_test_full)/len(y_test_full)*100,2), \"%\")"
   ]
  },
  {
   "cell_type": "code",
   "execution_count": 126,
   "id": "ebc22f4b",
   "metadata": {},
   "outputs": [
    {
     "name": "stdout",
     "output_type": "stream",
     "text": [
      "Accuracy is 86.13 %\n"
     ]
    }
   ],
   "source": [
    "y_hat_test_full=(lin_reg2.predict(X_test_full_std[attributes])>=0.5)\n",
    "from sklearn.metrics import accuracy_score\n",
    "print(\"Accuracy is\", round(accuracy_score(y_hat_test_full,y_test_full)*100,2), \"%\", )"
   ]
  },
  {
   "cell_type": "code",
   "execution_count": 127,
   "id": "b79143e0",
   "metadata": {},
   "outputs": [
    {
     "name": "stdout",
     "output_type": "stream",
     "text": [
      "F1 score of baseline is 0.0\n",
      "F1 score of glm lasso is 0.5283505154639175\n"
     ]
    }
   ],
   "source": [
    "y_baseline=np.zeros(len(y_test_full))\n",
    "from sklearn.metrics import f1_score\n",
    "print(\"F1 score of baseline is\", f1_score(y_test_full,y_baseline))\n",
    "print(\"F1 score of glm lasso is\", f1_score(y_test_full,y_hat_test_full))"
   ]
  },
  {
   "cell_type": "code",
   "execution_count": 128,
   "id": "f1a9fdb2",
   "metadata": {},
   "outputs": [
    {
     "name": "stdout",
     "output_type": "stream",
     "text": [
      "Classification report\n",
      "              precision    recall  f1-score   support\n",
      "\n",
      "       False       0.86      0.99      0.92      2092\n",
      "        True       0.90      0.37      0.53       547\n",
      "\n",
      "    accuracy                           0.86      2639\n",
      "   macro avg       0.88      0.68      0.72      2639\n",
      "weighted avg       0.87      0.86      0.84      2639\n",
      "\n",
      "\n",
      "\n"
     ]
    }
   ],
   "source": [
    "#print classification report\n",
    "from sklearn.metrics import classification_report, plot_confusion_matrix\n",
    "print('Classification report')\n",
    "print(classification_report(y_test_full, y_hat_test_full))\n",
    "print('\\n')"
   ]
  },
  {
   "cell_type": "code",
   "execution_count": 129,
   "id": "a76f44f0",
   "metadata": {},
   "outputs": [
    {
     "name": "stdout",
     "output_type": "stream",
     "text": [
      "Best parameters: {'gamma': 0.1, 'learning_rate': 0.1, 'max_depth': 6, 'n_estimators': 100} , Best CV Accuracy: 0.939649409812708\n"
     ]
    }
   ],
   "source": [
    "xgb2=XGBClassifier(objective=\"binary:logistic\",use_label_encoder=False)\n",
    "parameters={\"n_estimators\":[100], \"learning_rate\":[0.1], \"max_depth\":[6], \"gamma\":[0.1]}\n",
    "\n",
    "xgb_cv2=GridSearchCV(xgb2, parameters, scoring=\"accuracy\",cv=2)\n",
    "xgb_cv2.fit(X_train_full_std,y_train_full)\n",
    "\n",
    "print(\"Best parameters:\", xgb_cv2.best_params_ , \", Best CV Accuracy:\", xgb_cv2.best_score_)"
   ]
  },
  {
   "cell_type": "code",
   "execution_count": 134,
   "id": "ebf1a612",
   "metadata": {},
   "outputs": [
    {
     "name": "stdout",
     "output_type": "stream",
     "text": [
      "XGBC has test accuracy 95.53 %\n"
     ]
    }
   ],
   "source": [
    "#prediction\n",
    "y_hat_full_xgb=xgb_cv2.best_estimator_.predict(X_test_full_std)\n",
    "print(\"XGBC has test accuracy\", round(100*(accuracy_score(y_hat_full_xgb,y_test_full)),2), \"%\")"
   ]
  },
  {
   "cell_type": "code",
   "execution_count": 135,
   "id": "bf90a656",
   "metadata": {},
   "outputs": [
    {
     "data": {
      "image/png": "[encoded data removed]",
      "text/plain": [
       "<Figure size 1440x432 with 1 Axes>"
      ]
     },
     "metadata": {},
     "output_type": "display_data"
    }
   ],
   "source": [
    "#plot feature importance of xgb\n",
    "importance_df=pd.DataFrame(xgb_cv2.best_estimator_.feature_importances_, \n",
    "                           index=X_train_full_std.columns, columns=[\"Feature Importance\"])\n",
    "\n",
    "importance_df.sort_values(by=\"Feature Importance\", ascending=False).head(10).plot(kind=\"bar\",figsize=(20,6));"
   ]
  },
  {
   "cell_type": "code",
   "execution_count": 137,
   "id": "46d605d9",
   "metadata": {},
   "outputs": [
    {
     "name": "stdout",
     "output_type": "stream",
     "text": [
      "F1 score of baseline is 0.44218981187909534\n",
      "F1 score of xgb is 0.9292448285890864\n",
      "F1 score of baseline is 0.0\n",
      "F1 score of xgb is 0.8863198458574181\n"
     ]
    }
   ],
   "source": [
    "y_baseline=np.zeros(len(y_test_full))\n",
    "print(\"F1 score of baseline is\", f1_score(y_test_full,y_baseline, average=\"macro\"))\n",
    "print(\"F1 score of xgb is\", f1_score(y_test_full,y_hat_full_xgb, average=\"macro\"))\n",
    "print(\"F1 score of baseline is\", f1_score(y_test_full,y_baseline))\n",
    "print(\"F1 score of xgb is\", f1_score(y_test_full,y_hat_full_xgb))"
   ]
  },
  {
   "cell_type": "code",
   "execution_count": 138,
   "id": "cb367516",
   "metadata": {},
   "outputs": [
    {
     "name": "stdout",
     "output_type": "stream",
     "text": [
      "Classification report\n",
      "              precision    recall  f1-score   support\n",
      "\n",
      "       False       0.96      0.99      0.97      2092\n",
      "        True       0.94      0.84      0.89       547\n",
      "\n",
      "    accuracy                           0.96      2639\n",
      "   macro avg       0.95      0.91      0.93      2639\n",
      "weighted avg       0.95      0.96      0.95      2639\n",
      "\n",
      "\n",
      "\n"
     ]
    }
   ],
   "source": [
    "#print classification report\n",
    "from sklearn.metrics import classification_report, plot_confusion_matrix\n",
    "print('Classification report')\n",
    "print(classification_report(y_test_full, y_hat_full_xgb))\n",
    "print('\\n')"
   ]
  },
  {
   "cell_type": "code",
   "execution_count": 140,
   "id": "e746a085",
   "metadata": {},
   "outputs": [
    {
     "name": "stdout",
     "output_type": "stream",
     "text": [
      "Best parameters: {'gamma': 0.1, 'learning_rate': 0.1, 'max_depth': 6, 'n_estimators': 100} , Best CV Accuracy: 0.9517763998758294\n"
     ]
    }
   ],
   "source": [
    "# Now with all the features\n",
    "X_train_full, X_test_full, y_train_full, y_test_full = train_test_split(X_full, y_full, test_size = 0.20, random_state = 100)\n",
    "X_train_full=X_train_full.copy()\n",
    "X_test_full=X_test_full.copy()\n",
    "y_train_full=y_train_full.anomaly\n",
    "y_test_full=y_test_full.anomaly\n",
    "\n",
    "#Standard scaler \n",
    "attributes=[\"max_FIT102_Raw_Signal\",\"min_FIT102_Raw_Signal\",\"mean_FIT102_Raw_Signal\",\"std_FIT102_Raw_Signal\",\"max_FIT202_Raw_Signal\",\"min_FIT202_Raw_Signal\",\"mean_FIT202_Raw_Signal\",\"std_FIT202_Raw_Signal\",\"max_LIT101_Raw_Signal\",\"min_LIT101_Raw_Signal\",\"mean_LIT101_Raw_Signal\",\"std_LIT101_Raw_Signal\",\"max_LIT201_Raw_Signal\",\"min_LIT201_Raw_Signal\",\"mean_LIT201_Raw_Signal\",\"std_LIT201_Raw_Signal\",\"max_PIT101_Raw_Signal\",\"min_PIT101_Raw_Signal\",\"mean_PIT101_Raw_Signal\",\"std_PIT101_Raw_Signal\",\"max_PIT102_Raw_Signal\",\"min_PIT102_Raw_Signal\",\"mean_PIT102_Raw_Signal\",\"std_PIT102_Raw_Signal\",\"max_PIT201_Raw_Signal\",\"min_PIT201_Raw_Signal\",\"mean_PIT201_Raw_Signal\",\"std_PIT201_Raw_Signal\",\"max_PIT202_Raw_Signal\",\"min_PIT202_Raw_Signal\",\"mean_PIT202_Raw_Signal\",\"std_PIT202_Raw_Signal\",\"max_SI102_Raw_Signal\",\"min_SI102_Raw_Signal\",\"mean_SI102_Raw_Signal\",\"std_SI102_Raw_Signal\",\"max_SI202_Raw_Signal\",\"min_SI202_Raw_Signal\",\"mean_SI202_Raw_Signal\",\"std_SI202_Raw_Signal\"]\n",
    "scaler=StandardScaler()\n",
    "scaler.fit(X_train_full[attributes])\n",
    "X_train_full[attributes]=scaler.transform(X_train_full[attributes])\n",
    "X_test_full[attributes]=scaler.transform(X_test_full[attributes])\n",
    "\n",
    "xgb3=XGBClassifier(objective=\"binary:logistic\",use_label_encoder=False)\n",
    "parameters={\"n_estimators\":[100], \"learning_rate\":[0.1], \"max_depth\":[6], \"gamma\":[0.1]}\n",
    "\n",
    "xgb_cv3=GridSearchCV(xgb3, parameters, scoring=\"accuracy\",cv=2)\n",
    "xgb_cv3.fit(X_train_full,y_train_full)\n",
    "\n",
    "print(\"Best parameters:\", xgb_cv.best_params_ , \", Best CV Accuracy:\", xgb_cv3.best_score_)"
   ]
  },
  {
   "cell_type": "code",
   "execution_count": 141,
   "id": "4a35223c",
   "metadata": {},
   "outputs": [
    {
     "name": "stdout",
     "output_type": "stream",
     "text": [
      "XGBC has test accuracy 96.89 %\n"
     ]
    }
   ],
   "source": [
    "#prediction\n",
    "y_hat_full_xgb3=xgb_cv3.best_estimator_.predict(X_test_full)\n",
    "print(\"XGBC has test accuracy\", round(100*(accuracy_score(y_hat_full_xgb3,y_test_full)),2), \"%\")"
   ]
  },
  {
   "cell_type": "code",
   "execution_count": 142,
   "id": "2d67c1ee",
   "metadata": {},
   "outputs": [
    {
     "data": {
      "image/png": "[encoded data removed]",
      "text/plain": [
       "<Figure size 1440x432 with 1 Axes>"
      ]
     },
     "metadata": {},
     "output_type": "display_data"
    }
   ],
   "source": [
    "#plot feature importance of xgb\n",
    "importance_df=pd.DataFrame(xgb_cv3.best_estimator_.feature_importances_, \n",
    "                           index=X_train_full.columns, columns=[\"Feature Importance\"])\n",
    "\n",
    "importance_df.sort_values(by=\"Feature Importance\", ascending=False).head(10).plot(kind=\"bar\",figsize=(20,6));"
   ]
  },
  {
   "cell_type": "code",
   "execution_count": 144,
   "id": "d74f87b4",
   "metadata": {},
   "outputs": [
    {
     "name": "stdout",
     "output_type": "stream",
     "text": [
      "F1 score of baseline is 0.44218981187909534\n",
      "F1 score of xgb is 0.9513247702525918\n",
      "F1 score of baseline is 0.0\n",
      "F1 score of xgb is 0.9220532319391636\n"
     ]
    }
   ],
   "source": [
    "y_baseline=np.zeros(len(y_test_full))\n",
    "print(\"F1 score of baseline is\", f1_score(y_test_full,y_baseline, average=\"macro\"))\n",
    "print(\"F1 score of xgb is\", f1_score(y_test_full,y_hat_full_xgb3, average=\"macro\"))\n",
    "print(\"F1 score of baseline is\", f1_score(y_test_full,y_baseline))\n",
    "print(\"F1 score of xgb is\", f1_score(y_test_full,y_hat_full_xgb3))"
   ]
  },
  {
   "cell_type": "code",
   "execution_count": 145,
   "id": "9267c2c3",
   "metadata": {},
   "outputs": [
    {
     "name": "stdout",
     "output_type": "stream",
     "text": [
      "Classification report\n",
      "              precision    recall  f1-score   support\n",
      "\n",
      "       False       0.97      0.99      0.98      2092\n",
      "        True       0.96      0.89      0.92       547\n",
      "\n",
      "    accuracy                           0.97      2639\n",
      "   macro avg       0.97      0.94      0.95      2639\n",
      "weighted avg       0.97      0.97      0.97      2639\n",
      "\n",
      "\n",
      "\n"
     ]
    }
   ],
   "source": [
    "#print classification report\n",
    "from sklearn.metrics import classification_report, plot_confusion_matrix\n",
    "print('Classification report')\n",
    "print(classification_report(y_test_full, y_hat_full_xgb3))\n",
    "print('\\n')"
   ]
  },
  {
   "cell_type": "code",
   "execution_count": null,
   "id": "f95241b4",
   "metadata": {},
   "outputs": [],
   "source": []
  }
 ],
 "metadata": {
  "kernelspec": {
   "display_name": "Python 3 Conda",
   "language": "python",
   "name": "python3_conda"
  },
  "language_info": {
   "codemirror_mode": {
    "name": "ipython",
    "version": 3
   },
   "file_extension": ".py",
   "mimetype": "text/x-python",
   "name": "python",
   "nbconvert_exporter": "python",
   "pygments_lexer": "ipython3",
   "version": "3.9.13"
  }
 },
 "nbformat": 4,
 "nbformat_minor": 5
}
