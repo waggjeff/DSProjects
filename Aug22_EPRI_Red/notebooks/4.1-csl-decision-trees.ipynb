{
 "cells": [
  {
   "cell_type": "markdown",
   "id": "2ed6871c",
   "metadata": {},
   "source": [
    "First, we load the needed packages:"
   ]
  },
  {
   "cell_type": "code",
   "execution_count": 1,
   "id": "f4650abc",
   "metadata": {},
   "outputs": [],
   "source": [
    "import numpy as np\n",
    "import pandas as pd\n",
    "import matplotlib.pyplot as plt\n",
    "import matplotlib as mpl\n",
    "import seaborn as sns\n",
    "\n",
    "plt.style.use(\"ggplot\")\n",
    "\n",
    "pd.set_option('display.max_columns', None)"
   ]
  },
  {
   "cell_type": "markdown",
   "id": "03552fc4",
   "metadata": {},
   "source": [
    "Next, we load the cleaned data:"
   ]
  },
  {
   "cell_type": "code",
   "execution_count": 2,
   "id": "aa1dcbcd",
   "metadata": {},
   "outputs": [
    {
     "data": {
      "text/html": [
       "<div>\n",
       "<style scoped>\n",
       "    .dataframe tbody tr th:only-of-type {\n",
       "        vertical-align: middle;\n",
       "    }\n",
       "\n",
       "    .dataframe tbody tr th {\n",
       "        vertical-align: top;\n",
       "    }\n",
       "\n",
       "    .dataframe thead th {\n",
       "        text-align: right;\n",
       "    }\n",
       "</style>\n",
       "<table border=\"1\" class=\"dataframe\">\n",
       "  <thead>\n",
       "    <tr style=\"text-align: right;\">\n",
       "      <th></th>\n",
       "      <th>Unnamed: 0</th>\n",
       "      <th>max_FIT102_Raw_Signal</th>\n",
       "      <th>min_FIT102_Raw_Signal</th>\n",
       "      <th>mean_FIT102_Raw_Signal</th>\n",
       "      <th>std_FIT102_Raw_Signal</th>\n",
       "      <th>max_FIT202_Raw_Signal</th>\n",
       "      <th>min_FIT202_Raw_Signal</th>\n",
       "      <th>mean_FIT202_Raw_Signal</th>\n",
       "      <th>std_FIT202_Raw_Signal</th>\n",
       "      <th>max_LIT101_Raw_Signal</th>\n",
       "      <th>min_LIT101_Raw_Signal</th>\n",
       "      <th>mean_LIT101_Raw_Signal</th>\n",
       "      <th>std_LIT101_Raw_Signal</th>\n",
       "      <th>max_LIT201_Raw_Signal</th>\n",
       "      <th>min_LIT201_Raw_Signal</th>\n",
       "      <th>mean_LIT201_Raw_Signal</th>\n",
       "      <th>std_LIT201_Raw_Signal</th>\n",
       "      <th>max_PIT101_Raw_Signal</th>\n",
       "      <th>min_PIT101_Raw_Signal</th>\n",
       "      <th>mean_PIT101_Raw_Signal</th>\n",
       "      <th>std_PIT101_Raw_Signal</th>\n",
       "      <th>max_PIT102_Raw_Signal</th>\n",
       "      <th>min_PIT102_Raw_Signal</th>\n",
       "      <th>mean_PIT102_Raw_Signal</th>\n",
       "      <th>std_PIT102_Raw_Signal</th>\n",
       "      <th>max_PIT201_Raw_Signal</th>\n",
       "      <th>min_PIT201_Raw_Signal</th>\n",
       "      <th>mean_PIT201_Raw_Signal</th>\n",
       "      <th>std_PIT201_Raw_Signal</th>\n",
       "      <th>max_PIT202_Raw_Signal</th>\n",
       "      <th>min_PIT202_Raw_Signal</th>\n",
       "      <th>mean_PIT202_Raw_Signal</th>\n",
       "      <th>std_PIT202_Raw_Signal</th>\n",
       "      <th>max_SI102_Raw_Signal</th>\n",
       "      <th>min_SI102_Raw_Signal</th>\n",
       "      <th>mean_SI102_Raw_Signal</th>\n",
       "      <th>std_SI102_Raw_Signal</th>\n",
       "      <th>max_SI202_Raw_Signal</th>\n",
       "      <th>min_SI202_Raw_Signal</th>\n",
       "      <th>mean_SI202_Raw_Signal</th>\n",
       "      <th>std_SI202_Raw_Signal</th>\n",
       "      <th>event</th>\n",
       "      <th>binary</th>\n",
       "      <th>ternary</th>\n",
       "    </tr>\n",
       "  </thead>\n",
       "  <tbody>\n",
       "    <tr>\n",
       "      <th>0</th>\n",
       "      <td>2022-07-13 09:13:09</td>\n",
       "      <td>4.30</td>\n",
       "      <td>-4.28</td>\n",
       "      <td>-0.248235</td>\n",
       "      <td>2.485488</td>\n",
       "      <td>2.68</td>\n",
       "      <td>-4.32</td>\n",
       "      <td>-0.040000</td>\n",
       "      <td>1.948820</td>\n",
       "      <td>2.50</td>\n",
       "      <td>-2.28</td>\n",
       "      <td>-0.052941</td>\n",
       "      <td>1.501149</td>\n",
       "      <td>0.32</td>\n",
       "      <td>-0.32</td>\n",
       "      <td>-0.032941</td>\n",
       "      <td>0.235366</td>\n",
       "      <td>0.10</td>\n",
       "      <td>-0.18</td>\n",
       "      <td>0.002353</td>\n",
       "      <td>0.077098</td>\n",
       "      <td>1.04</td>\n",
       "      <td>-1.00</td>\n",
       "      <td>-2.612289e-17</td>\n",
       "      <td>0.648151</td>\n",
       "      <td>0.36</td>\n",
       "      <td>-0.80</td>\n",
       "      <td>-0.020000</td>\n",
       "      <td>0.320624</td>\n",
       "      <td>0.44</td>\n",
       "      <td>-0.46</td>\n",
       "      <td>0.008235</td>\n",
       "      <td>0.281164</td>\n",
       "      <td>4.60</td>\n",
       "      <td>-5.52</td>\n",
       "      <td>0.112941</td>\n",
       "      <td>3.532336</td>\n",
       "      <td>3.36</td>\n",
       "      <td>-3.78</td>\n",
       "      <td>0.144706</td>\n",
       "      <td>2.021256</td>\n",
       "      <td>normal</td>\n",
       "      <td>normal</td>\n",
       "      <td>normal</td>\n",
       "    </tr>\n",
       "    <tr>\n",
       "      <th>1</th>\n",
       "      <td>2022-07-13 09:13:39</td>\n",
       "      <td>4.58</td>\n",
       "      <td>-3.32</td>\n",
       "      <td>0.001176</td>\n",
       "      <td>2.543123</td>\n",
       "      <td>2.26</td>\n",
       "      <td>-5.88</td>\n",
       "      <td>-0.301176</td>\n",
       "      <td>2.072203</td>\n",
       "      <td>2.56</td>\n",
       "      <td>-2.54</td>\n",
       "      <td>-0.140000</td>\n",
       "      <td>1.460856</td>\n",
       "      <td>0.38</td>\n",
       "      <td>-0.32</td>\n",
       "      <td>0.014118</td>\n",
       "      <td>0.248572</td>\n",
       "      <td>0.18</td>\n",
       "      <td>-0.18</td>\n",
       "      <td>0.002353</td>\n",
       "      <td>0.093777</td>\n",
       "      <td>0.76</td>\n",
       "      <td>-1.00</td>\n",
       "      <td>-1.764706e-02</td>\n",
       "      <td>0.500843</td>\n",
       "      <td>0.32</td>\n",
       "      <td>-0.52</td>\n",
       "      <td>-0.001176</td>\n",
       "      <td>0.270414</td>\n",
       "      <td>0.60</td>\n",
       "      <td>-0.68</td>\n",
       "      <td>0.010588</td>\n",
       "      <td>0.337870</td>\n",
       "      <td>4.60</td>\n",
       "      <td>-5.52</td>\n",
       "      <td>-0.005882</td>\n",
       "      <td>2.935633</td>\n",
       "      <td>5.50</td>\n",
       "      <td>-4.86</td>\n",
       "      <td>0.216471</td>\n",
       "      <td>2.585239</td>\n",
       "      <td>normal</td>\n",
       "      <td>normal</td>\n",
       "      <td>normal</td>\n",
       "    </tr>\n",
       "    <tr>\n",
       "      <th>2</th>\n",
       "      <td>2022-07-13 09:14:09</td>\n",
       "      <td>5.10</td>\n",
       "      <td>-3.80</td>\n",
       "      <td>0.071765</td>\n",
       "      <td>2.814365</td>\n",
       "      <td>5.16</td>\n",
       "      <td>-5.88</td>\n",
       "      <td>-0.015294</td>\n",
       "      <td>2.419654</td>\n",
       "      <td>2.56</td>\n",
       "      <td>-2.54</td>\n",
       "      <td>-0.109412</td>\n",
       "      <td>1.563699</td>\n",
       "      <td>0.38</td>\n",
       "      <td>-0.32</td>\n",
       "      <td>0.038824</td>\n",
       "      <td>0.231460</td>\n",
       "      <td>0.18</td>\n",
       "      <td>-0.16</td>\n",
       "      <td>-0.007059</td>\n",
       "      <td>0.072091</td>\n",
       "      <td>0.76</td>\n",
       "      <td>-1.18</td>\n",
       "      <td>-2.941176e-02</td>\n",
       "      <td>0.583186</td>\n",
       "      <td>0.30</td>\n",
       "      <td>-0.40</td>\n",
       "      <td>0.004706</td>\n",
       "      <td>0.209944</td>\n",
       "      <td>0.60</td>\n",
       "      <td>-0.68</td>\n",
       "      <td>-0.031765</td>\n",
       "      <td>0.301169</td>\n",
       "      <td>4.52</td>\n",
       "      <td>-7.34</td>\n",
       "      <td>-0.094118</td>\n",
       "      <td>3.015840</td>\n",
       "      <td>5.50</td>\n",
       "      <td>-4.86</td>\n",
       "      <td>0.003529</td>\n",
       "      <td>2.354902</td>\n",
       "      <td>normal</td>\n",
       "      <td>normal</td>\n",
       "      <td>normal</td>\n",
       "    </tr>\n",
       "    <tr>\n",
       "      <th>3</th>\n",
       "      <td>2022-07-13 09:14:39</td>\n",
       "      <td>5.10</td>\n",
       "      <td>-3.80</td>\n",
       "      <td>-0.042353</td>\n",
       "      <td>2.228765</td>\n",
       "      <td>5.16</td>\n",
       "      <td>-5.88</td>\n",
       "      <td>0.134118</td>\n",
       "      <td>2.475508</td>\n",
       "      <td>1.86</td>\n",
       "      <td>-2.54</td>\n",
       "      <td>-0.074118</td>\n",
       "      <td>1.471713</td>\n",
       "      <td>0.38</td>\n",
       "      <td>-0.50</td>\n",
       "      <td>0.008235</td>\n",
       "      <td>0.209411</td>\n",
       "      <td>0.18</td>\n",
       "      <td>-0.16</td>\n",
       "      <td>-0.001176</td>\n",
       "      <td>0.086450</td>\n",
       "      <td>0.68</td>\n",
       "      <td>-1.18</td>\n",
       "      <td>1.176471e-02</td>\n",
       "      <td>0.474608</td>\n",
       "      <td>0.30</td>\n",
       "      <td>-0.40</td>\n",
       "      <td>-0.005882</td>\n",
       "      <td>0.227130</td>\n",
       "      <td>0.60</td>\n",
       "      <td>-0.68</td>\n",
       "      <td>-0.003529</td>\n",
       "      <td>0.346355</td>\n",
       "      <td>3.32</td>\n",
       "      <td>-7.34</td>\n",
       "      <td>0.070588</td>\n",
       "      <td>2.370318</td>\n",
       "      <td>5.50</td>\n",
       "      <td>-4.86</td>\n",
       "      <td>0.007059</td>\n",
       "      <td>2.695959</td>\n",
       "      <td>normal</td>\n",
       "      <td>normal</td>\n",
       "      <td>normal</td>\n",
       "    </tr>\n",
       "    <tr>\n",
       "      <th>4</th>\n",
       "      <td>2022-07-13 09:15:09</td>\n",
       "      <td>5.10</td>\n",
       "      <td>-3.80</td>\n",
       "      <td>0.175294</td>\n",
       "      <td>2.095346</td>\n",
       "      <td>2.74</td>\n",
       "      <td>-3.54</td>\n",
       "      <td>-0.143529</td>\n",
       "      <td>1.719989</td>\n",
       "      <td>1.86</td>\n",
       "      <td>-1.64</td>\n",
       "      <td>-0.080000</td>\n",
       "      <td>1.341343</td>\n",
       "      <td>0.34</td>\n",
       "      <td>-0.50</td>\n",
       "      <td>0.012941</td>\n",
       "      <td>0.201115</td>\n",
       "      <td>0.20</td>\n",
       "      <td>-0.12</td>\n",
       "      <td>0.007059</td>\n",
       "      <td>0.084244</td>\n",
       "      <td>3.44</td>\n",
       "      <td>-1.18</td>\n",
       "      <td>2.141176e-01</td>\n",
       "      <td>0.952070</td>\n",
       "      <td>0.60</td>\n",
       "      <td>-0.46</td>\n",
       "      <td>-0.008235</td>\n",
       "      <td>0.258849</td>\n",
       "      <td>0.58</td>\n",
       "      <td>-0.90</td>\n",
       "      <td>0.010588</td>\n",
       "      <td>0.390904</td>\n",
       "      <td>2.88</td>\n",
       "      <td>-7.34</td>\n",
       "      <td>-0.021176</td>\n",
       "      <td>2.296775</td>\n",
       "      <td>4.10</td>\n",
       "      <td>-4.10</td>\n",
       "      <td>-0.045882</td>\n",
       "      <td>2.096411</td>\n",
       "      <td>normal</td>\n",
       "      <td>normal</td>\n",
       "      <td>normal</td>\n",
       "    </tr>\n",
       "  </tbody>\n",
       "</table>\n",
       "</div>"
      ],
      "text/plain": [
       "            Unnamed: 0  max_FIT102_Raw_Signal  min_FIT102_Raw_Signal  \\\n",
       "0  2022-07-13 09:13:09                   4.30                  -4.28   \n",
       "1  2022-07-13 09:13:39                   4.58                  -3.32   \n",
       "2  2022-07-13 09:14:09                   5.10                  -3.80   \n",
       "3  2022-07-13 09:14:39                   5.10                  -3.80   \n",
       "4  2022-07-13 09:15:09                   5.10                  -3.80   \n",
       "\n",
       "   mean_FIT102_Raw_Signal  std_FIT102_Raw_Signal  max_FIT202_Raw_Signal  \\\n",
       "0               -0.248235               2.485488                   2.68   \n",
       "1                0.001176               2.543123                   2.26   \n",
       "2                0.071765               2.814365                   5.16   \n",
       "3               -0.042353               2.228765                   5.16   \n",
       "4                0.175294               2.095346                   2.74   \n",
       "\n",
       "   min_FIT202_Raw_Signal  mean_FIT202_Raw_Signal  std_FIT202_Raw_Signal  \\\n",
       "0                  -4.32               -0.040000               1.948820   \n",
       "1                  -5.88               -0.301176               2.072203   \n",
       "2                  -5.88               -0.015294               2.419654   \n",
       "3                  -5.88                0.134118               2.475508   \n",
       "4                  -3.54               -0.143529               1.719989   \n",
       "\n",
       "   max_LIT101_Raw_Signal  min_LIT101_Raw_Signal  mean_LIT101_Raw_Signal  \\\n",
       "0                   2.50                  -2.28               -0.052941   \n",
       "1                   2.56                  -2.54               -0.140000   \n",
       "2                   2.56                  -2.54               -0.109412   \n",
       "3                   1.86                  -2.54               -0.074118   \n",
       "4                   1.86                  -1.64               -0.080000   \n",
       "\n",
       "   std_LIT101_Raw_Signal  max_LIT201_Raw_Signal  min_LIT201_Raw_Signal  \\\n",
       "0               1.501149                   0.32                  -0.32   \n",
       "1               1.460856                   0.38                  -0.32   \n",
       "2               1.563699                   0.38                  -0.32   \n",
       "3               1.471713                   0.38                  -0.50   \n",
       "4               1.341343                   0.34                  -0.50   \n",
       "\n",
       "   mean_LIT201_Raw_Signal  std_LIT201_Raw_Signal  max_PIT101_Raw_Signal  \\\n",
       "0               -0.032941               0.235366                   0.10   \n",
       "1                0.014118               0.248572                   0.18   \n",
       "2                0.038824               0.231460                   0.18   \n",
       "3                0.008235               0.209411                   0.18   \n",
       "4                0.012941               0.201115                   0.20   \n",
       "\n",
       "   min_PIT101_Raw_Signal  mean_PIT101_Raw_Signal  std_PIT101_Raw_Signal  \\\n",
       "0                  -0.18                0.002353               0.077098   \n",
       "1                  -0.18                0.002353               0.093777   \n",
       "2                  -0.16               -0.007059               0.072091   \n",
       "3                  -0.16               -0.001176               0.086450   \n",
       "4                  -0.12                0.007059               0.084244   \n",
       "\n",
       "   max_PIT102_Raw_Signal  min_PIT102_Raw_Signal  mean_PIT102_Raw_Signal  \\\n",
       "0                   1.04                  -1.00           -2.612289e-17   \n",
       "1                   0.76                  -1.00           -1.764706e-02   \n",
       "2                   0.76                  -1.18           -2.941176e-02   \n",
       "3                   0.68                  -1.18            1.176471e-02   \n",
       "4                   3.44                  -1.18            2.141176e-01   \n",
       "\n",
       "   std_PIT102_Raw_Signal  max_PIT201_Raw_Signal  min_PIT201_Raw_Signal  \\\n",
       "0               0.648151                   0.36                  -0.80   \n",
       "1               0.500843                   0.32                  -0.52   \n",
       "2               0.583186                   0.30                  -0.40   \n",
       "3               0.474608                   0.30                  -0.40   \n",
       "4               0.952070                   0.60                  -0.46   \n",
       "\n",
       "   mean_PIT201_Raw_Signal  std_PIT201_Raw_Signal  max_PIT202_Raw_Signal  \\\n",
       "0               -0.020000               0.320624                   0.44   \n",
       "1               -0.001176               0.270414                   0.60   \n",
       "2                0.004706               0.209944                   0.60   \n",
       "3               -0.005882               0.227130                   0.60   \n",
       "4               -0.008235               0.258849                   0.58   \n",
       "\n",
       "   min_PIT202_Raw_Signal  mean_PIT202_Raw_Signal  std_PIT202_Raw_Signal  \\\n",
       "0                  -0.46                0.008235               0.281164   \n",
       "1                  -0.68                0.010588               0.337870   \n",
       "2                  -0.68               -0.031765               0.301169   \n",
       "3                  -0.68               -0.003529               0.346355   \n",
       "4                  -0.90                0.010588               0.390904   \n",
       "\n",
       "   max_SI102_Raw_Signal  min_SI102_Raw_Signal  mean_SI102_Raw_Signal  \\\n",
       "0                  4.60                 -5.52               0.112941   \n",
       "1                  4.60                 -5.52              -0.005882   \n",
       "2                  4.52                 -7.34              -0.094118   \n",
       "3                  3.32                 -7.34               0.070588   \n",
       "4                  2.88                 -7.34              -0.021176   \n",
       "\n",
       "   std_SI102_Raw_Signal  max_SI202_Raw_Signal  min_SI202_Raw_Signal  \\\n",
       "0              3.532336                  3.36                 -3.78   \n",
       "1              2.935633                  5.50                 -4.86   \n",
       "2              3.015840                  5.50                 -4.86   \n",
       "3              2.370318                  5.50                 -4.86   \n",
       "4              2.296775                  4.10                 -4.10   \n",
       "\n",
       "   mean_SI202_Raw_Signal  std_SI202_Raw_Signal   event  binary ternary  \n",
       "0               0.144706              2.021256  normal  normal  normal  \n",
       "1               0.216471              2.585239  normal  normal  normal  \n",
       "2               0.003529              2.354902  normal  normal  normal  \n",
       "3               0.007059              2.695959  normal  normal  normal  \n",
       "4              -0.045882              2.096411  normal  normal  normal  "
      ]
     },
     "execution_count": 2,
     "metadata": {},
     "output_type": "execute_result"
    }
   ],
   "source": [
    "path=\"../../data/Rockwell_Flow_Loop_Data/final_columns.csv\"\n",
    "data=pd.read_csv(path)\n",
    "data.head(5)"
   ]
  },
  {
   "cell_type": "markdown",
   "id": "ffd512d6",
   "metadata": {},
   "source": [
    "The ternary data column contains whether the data is normal, or whether there are mechanical or cyberattacks."
   ]
  },
  {
   "cell_type": "code",
   "execution_count": 3,
   "id": "9e449c19",
   "metadata": {},
   "outputs": [
    {
     "data": {
      "text/plain": [
       "normal        10347\n",
       "mechanical     2557\n",
       "cyber           290\n",
       "Name: ternary, dtype: int64"
      ]
     },
     "execution_count": 3,
     "metadata": {},
     "output_type": "execute_result"
    }
   ],
   "source": [
    "data.ternary.value_counts()"
   ]
  },
  {
   "cell_type": "markdown",
   "id": "cd86c571",
   "metadata": {},
   "source": [
    "We now preprocess the data. We need to encode the labels of the target variable, and define the features as well as the targets. We also split the test and train set randomly here, and scale the features."
   ]
  },
  {
   "cell_type": "code",
   "execution_count": 4,
   "id": "79e76453",
   "metadata": {},
   "outputs": [],
   "source": [
    "#ordinal encode labels\n",
    "from sklearn.preprocessing import LabelEncoder\n",
    "labelencoder=LabelEncoder()\n",
    "labelencoder.fit(data.ternary)\n",
    "data[\"EncodedErrors\"]=labelencoder.transform(data.ternary)"
   ]
  },
  {
   "cell_type": "code",
   "execution_count": 5,
   "id": "53b9b25d",
   "metadata": {},
   "outputs": [],
   "source": [
    "features=data\n",
    "features=features.drop([\"event\",\"binary\",\"ternary\",\"Unnamed: 0\",\"EncodedErrors\"],axis=1)\n",
    "y=data[\"EncodedErrors\"]"
   ]
  },
  {
   "cell_type": "code",
   "execution_count": 6,
   "id": "0b896b53",
   "metadata": {},
   "outputs": [],
   "source": [
    "from sklearn.model_selection import train_test_split, GridSearchCV\n",
    "X_train, X_test, y_train, y_test = train_test_split(features, y, test_size = 0.20, random_state = 100,stratify=y)"
   ]
  },
  {
   "cell_type": "code",
   "execution_count": 7,
   "id": "59c40bfa",
   "metadata": {},
   "outputs": [],
   "source": [
    "X_train=X_train.copy()\n",
    "X_test=X_test.copy()\n",
    "y_train=y_train.copy()\n",
    "y_test=y_test.copy()"
   ]
  },
  {
   "cell_type": "code",
   "execution_count": 8,
   "id": "a6fbe2ae",
   "metadata": {},
   "outputs": [],
   "source": [
    "from sklearn.preprocessing import StandardScaler\n",
    "attributes=[\"max_FIT102_Raw_Signal\",\"min_FIT102_Raw_Signal\",\"mean_FIT102_Raw_Signal\",\"std_FIT102_Raw_Signal\",\"max_FIT202_Raw_Signal\",\"min_FIT202_Raw_Signal\",\"mean_FIT202_Raw_Signal\",\"std_FIT202_Raw_Signal\",\"max_LIT101_Raw_Signal\",\"min_LIT101_Raw_Signal\",\"mean_LIT101_Raw_Signal\",\"std_LIT101_Raw_Signal\",\"max_LIT201_Raw_Signal\",\"min_LIT201_Raw_Signal\",\"mean_LIT201_Raw_Signal\",\"std_LIT201_Raw_Signal\",\"max_PIT101_Raw_Signal\",\"min_PIT101_Raw_Signal\",\"mean_PIT101_Raw_Signal\",\"std_PIT101_Raw_Signal\",\"max_PIT102_Raw_Signal\",\"min_PIT102_Raw_Signal\",\"mean_PIT102_Raw_Signal\",\"std_PIT102_Raw_Signal\",\"max_PIT201_Raw_Signal\",\"min_PIT201_Raw_Signal\",\"mean_PIT201_Raw_Signal\",\"std_PIT201_Raw_Signal\",\"max_PIT202_Raw_Signal\",\"min_PIT202_Raw_Signal\",\"mean_PIT202_Raw_Signal\",\"std_PIT202_Raw_Signal\",\"max_SI102_Raw_Signal\",\"min_SI102_Raw_Signal\",\"mean_SI102_Raw_Signal\",\"std_SI102_Raw_Signal\",\"max_SI202_Raw_Signal\",\"min_SI202_Raw_Signal\",\"mean_SI202_Raw_Signal\",\"std_SI202_Raw_Signal\"]\n",
    "scaler=StandardScaler()\n",
    "scaler.fit(X_train[attributes])\n",
    "X_train[attributes]=scaler.transform(X_train[attributes])\n",
    "X_test[attributes]=scaler.transform(X_test[attributes])"
   ]
  },
  {
   "cell_type": "code",
   "execution_count": 9,
   "id": "c6a0db74",
   "metadata": {},
   "outputs": [
    {
     "name": "stdout",
     "output_type": "stream",
     "text": [
      "[[   0   58]\n",
      " [   1  511]\n",
      " [   2 2070]]\n"
     ]
    }
   ],
   "source": [
    "unique, counts = np.unique(y_test, return_counts=True)\n",
    "\n",
    "print(np.asarray((unique, counts)).T)"
   ]
  },
  {
   "cell_type": "markdown",
   "id": "dc04289e",
   "metadata": {},
   "source": [
    "Next, we run the XGBoost classifer."
   ]
  },
  {
   "cell_type": "code",
   "execution_count": 10,
   "id": "c30b26da",
   "metadata": {},
   "outputs": [
    {
     "name": "stdout",
     "output_type": "stream",
     "text": [
      "Best parameters: {'gamma': 0.1, 'learning_rate': 0.1, 'max_depth': 6, 'n_estimators': 100} , Best CV Accuracy: 0.95196572196631\n"
     ]
    }
   ],
   "source": [
    "from xgboost import XGBClassifier\n",
    "from sklearn.model_selection import GridSearchCV\n",
    "\n",
    "xgb=XGBClassifier(objective=\"multi:softmax\",use_label_encoder=False)\n",
    "parameters={\"n_estimators\":[100], \"learning_rate\":[0.1], \"max_depth\":[6], \"gamma\":[0.1]}\n",
    "\n",
    "xgb_cv=GridSearchCV(xgb, parameters, scoring=\"accuracy\",cv=2)\n",
    "xgb_cv.fit(X_train,y_train)\n",
    "\n",
    "print(\"Best parameters:\", xgb_cv.best_params_ , \", Best CV Accuracy:\", xgb_cv.best_score_)"
   ]
  },
  {
   "cell_type": "code",
   "execution_count": 11,
   "id": "e20a1ce9",
   "metadata": {},
   "outputs": [
    {
     "name": "stdout",
     "output_type": "stream",
     "text": [
      "XGBC has test accuracy 96.13 %\n"
     ]
    }
   ],
   "source": [
    "#prediction\n",
    "from sklearn.metrics import accuracy_score\n",
    "y_hat=xgb_cv.best_estimator_.predict(X_test)\n",
    "print(\"XGBC has test accuracy\", round(100*(accuracy_score(y_hat,y_test)),2), \"%\")"
   ]
  },
  {
   "cell_type": "code",
   "execution_count": 12,
   "id": "214abfe1",
   "metadata": {},
   "outputs": [
    {
     "name": "stdout",
     "output_type": "stream",
     "text": [
      "F1 score of baseline is 0.014336917562724016\n",
      "F1 score of XGB is 0.9086007067913643\n"
     ]
    }
   ],
   "source": [
    "y_baseline=np.zeros(len(y_test))\n",
    "from sklearn.metrics import f1_score\n",
    "print(\"F1 score of baseline is\", f1_score(y_test,y_baseline,average=\"macro\"))\n",
    "print(\"F1 score of XGB is\", f1_score(y_test,y_hat,average=\"macro\"))"
   ]
  },
  {
   "cell_type": "code",
   "execution_count": 13,
   "id": "e115ef72",
   "metadata": {},
   "outputs": [
    {
     "name": "stdout",
     "output_type": "stream",
     "text": [
      "Classification report\n",
      "              precision    recall  f1-score   support\n",
      "\n",
      "           0       0.92      0.78      0.84        58\n",
      "           1       0.94      0.87      0.91       511\n",
      "           2       0.97      0.99      0.98      2070\n",
      "\n",
      "    accuracy                           0.96      2639\n",
      "   macro avg       0.94      0.88      0.91      2639\n",
      "weighted avg       0.96      0.96      0.96      2639\n",
      "\n",
      "\n",
      "\n"
     ]
    }
   ],
   "source": [
    "#print classification report\n",
    "from sklearn.metrics import classification_report, plot_confusion_matrix\n",
    "print('Classification report')\n",
    "print(classification_report(y_test, y_hat))\n",
    "print('\\n')"
   ]
  },
  {
   "cell_type": "code",
   "execution_count": 14,
   "id": "8113dcbb",
   "metadata": {},
   "outputs": [
    {
     "data": {
      "text/plain": [
       "2    2070\n",
       "1     511\n",
       "0      58\n",
       "Name: EncodedErrors, dtype: int64"
      ]
     },
     "execution_count": 14,
     "metadata": {},
     "output_type": "execute_result"
    }
   ],
   "source": [
    "y_test.value_counts()"
   ]
  },
  {
   "cell_type": "code",
   "execution_count": 15,
   "id": "196b5bbc",
   "metadata": {},
   "outputs": [
    {
     "data": {
      "text/plain": [
       "2    2116\n",
       "1     474\n",
       "0      49\n",
       "dtype: int64"
      ]
     },
     "execution_count": 15,
     "metadata": {},
     "output_type": "execute_result"
    }
   ],
   "source": [
    "y_hat_df=pd.Series(y_hat)\n",
    "y_hat_df.value_counts()"
   ]
  },
  {
   "cell_type": "code",
   "execution_count": 16,
   "id": "3864f178",
   "metadata": {},
   "outputs": [
    {
     "data": {
      "image/png": "[encoded data removed]",
      "text/plain": [
       "<Figure size 1440x432 with 1 Axes>"
      ]
     },
     "metadata": {
      "needs_background": "light"
     },
     "output_type": "display_data"
    }
   ],
   "source": [
    "#plot feature importance of xgb\n",
    "importance_df=pd.DataFrame(xgb_cv.best_estimator_.feature_importances_, \n",
    "                           index=X_train.columns, columns=[\"Feature Importance\"])\n",
    "\n",
    "importance_df.sort_values(by=\"Feature Importance\", ascending=False).head(10).plot(kind=\"bar\",figsize=(20,6));"
   ]
  },
  {
   "cell_type": "code",
   "execution_count": 17,
   "id": "e360d783",
   "metadata": {},
   "outputs": [],
   "source": [
    "#Multiclass classification\n",
    "#ordinal encode labels\n",
    "from sklearn.preprocessing import LabelEncoder\n",
    "labelencoder=LabelEncoder()\n",
    "labelencoder.fit(data.event)\n",
    "data[\"EncodedErrors2\"]=labelencoder.transform(data.event)"
   ]
  },
  {
   "cell_type": "code",
   "execution_count": 18,
   "id": "2c88dd1a",
   "metadata": {},
   "outputs": [],
   "source": [
    "features=data\n",
    "features=features.drop([\"event\",\"binary\",\"ternary\",\"Unnamed: 0\",\"EncodedErrors\",\"EncodedErrors2\"],axis=1)\n",
    "y=data[\"EncodedErrors2\"]"
   ]
  },
  {
   "cell_type": "code",
   "execution_count": 19,
   "id": "5832ac24",
   "metadata": {},
   "outputs": [],
   "source": [
    "from sklearn.model_selection import train_test_split, GridSearchCV\n",
    "X_train2,X_test2, y_train2, y_test2 = train_test_split(features, y, test_size = 0.20, random_state = 100,stratify=y)"
   ]
  },
  {
   "cell_type": "code",
   "execution_count": 20,
   "id": "1c4f5d7e",
   "metadata": {},
   "outputs": [],
   "source": [
    "X_train2=X_train2.copy()\n",
    "X_test2=X_test2.copy()\n",
    "y_train2=y_train2.copy()\n",
    "y_test2=y_test2.copy()"
   ]
  },
  {
   "cell_type": "code",
   "execution_count": 21,
   "id": "52ee59e0",
   "metadata": {},
   "outputs": [],
   "source": [
    "from sklearn.preprocessing import StandardScaler\n",
    "attributes=[\"max_FIT102_Raw_Signal\",\"min_FIT102_Raw_Signal\",\"mean_FIT102_Raw_Signal\",\"std_FIT102_Raw_Signal\",\"max_FIT202_Raw_Signal\",\"min_FIT202_Raw_Signal\",\"mean_FIT202_Raw_Signal\",\"std_FIT202_Raw_Signal\",\"max_LIT101_Raw_Signal\",\"min_LIT101_Raw_Signal\",\"mean_LIT101_Raw_Signal\",\"std_LIT101_Raw_Signal\",\"max_LIT201_Raw_Signal\",\"min_LIT201_Raw_Signal\",\"mean_LIT201_Raw_Signal\",\"std_LIT201_Raw_Signal\",\"max_PIT101_Raw_Signal\",\"min_PIT101_Raw_Signal\",\"mean_PIT101_Raw_Signal\",\"std_PIT101_Raw_Signal\",\"max_PIT102_Raw_Signal\",\"min_PIT102_Raw_Signal\",\"mean_PIT102_Raw_Signal\",\"std_PIT102_Raw_Signal\",\"max_PIT201_Raw_Signal\",\"min_PIT201_Raw_Signal\",\"mean_PIT201_Raw_Signal\",\"std_PIT201_Raw_Signal\",\"max_PIT202_Raw_Signal\",\"min_PIT202_Raw_Signal\",\"mean_PIT202_Raw_Signal\",\"std_PIT202_Raw_Signal\",\"max_SI102_Raw_Signal\",\"min_SI102_Raw_Signal\",\"mean_SI102_Raw_Signal\",\"std_SI102_Raw_Signal\",\"max_SI202_Raw_Signal\",\"min_SI202_Raw_Signal\",\"mean_SI202_Raw_Signal\",\"std_SI202_Raw_Signal\"]\n",
    "scaler=StandardScaler()\n",
    "scaler.fit(X_train2[attributes])\n",
    "X_train2[attributes]=scaler.transform(X_train2[attributes])\n",
    "X_test2[attributes]=scaler.transform(X_test2[attributes])"
   ]
  },
  {
   "cell_type": "code",
   "execution_count": 22,
   "id": "09c2b10f",
   "metadata": {},
   "outputs": [
    {
     "name": "stdout",
     "output_type": "stream",
     "text": [
      "[[   0   58]\n",
      " [   1  511]\n",
      " [   2 2070]]\n"
     ]
    }
   ],
   "source": [
    "unique, counts = np.unique(y_test, return_counts=True)\n",
    "\n",
    "print(np.asarray((unique, counts)).T)"
   ]
  },
  {
   "cell_type": "markdown",
   "id": "8e5c8d73",
   "metadata": {},
   "source": [
    "Similarly, we can perform a multiclass classification where we classify all the different anomaly types."
   ]
  },
  {
   "cell_type": "code",
   "execution_count": 23,
   "id": "13fdf28a",
   "metadata": {},
   "outputs": [
    {
     "name": "stdout",
     "output_type": "stream",
     "text": [
      "Best parameters: {'gamma': 0.1, 'learning_rate': 0.1, 'max_depth': 6, 'n_estimators': 100} , Best CV Accuracy: 0.9556607879518624\n"
     ]
    }
   ],
   "source": [
    "from xgboost import XGBClassifier\n",
    "from sklearn.model_selection import GridSearchCV\n",
    "\n",
    "xgb2=XGBClassifier(objective=\"multi:softmax\",use_label_encoder=False)\n",
    "parameters={\"n_estimators\":[100], \"learning_rate\":[0.1], \"max_depth\":[6], \"gamma\":[0.1]}\n",
    "\n",
    "xgb_cv2=GridSearchCV(xgb2, parameters, scoring=\"accuracy\",cv=2)\n",
    "xgb_cv2.fit(X_train2,y_train2)\n",
    "\n",
    "print(\"Best parameters:\", xgb_cv2.best_params_ , \", Best CV Accuracy:\", xgb_cv2.best_score_)"
   ]
  },
  {
   "cell_type": "code",
   "execution_count": 24,
   "id": "f948a544",
   "metadata": {},
   "outputs": [
    {
     "name": "stdout",
     "output_type": "stream",
     "text": [
      "XGBC has test accuracy 97.39 %\n"
     ]
    }
   ],
   "source": [
    "#prediction\n",
    "from sklearn.metrics import accuracy_score\n",
    "y_hat2=xgb_cv2.best_estimator_.predict(X_test2)\n",
    "print(\"XGBC has test accuracy\", round(100*(accuracy_score(y_hat2,y_test2)),2), \"%\")"
   ]
  },
  {
   "cell_type": "code",
   "execution_count": 25,
   "id": "3914cdf9",
   "metadata": {},
   "outputs": [
    {
     "name": "stdout",
     "output_type": "stream",
     "text": [
      "F1 score of baseline is 0.004046404511310561\n",
      "F1 score of XGB is 0.9108750813611333\n"
     ]
    }
   ],
   "source": [
    "y_baseline=np.zeros(len(y_test))\n",
    "from sklearn.metrics import f1_score\n",
    "print(\"F1 score of baseline is\", f1_score(y_test2,y_baseline,average=\"macro\"))\n",
    "print(\"F1 score of XGB is\", f1_score(y_test2,y_hat2,average=\"macro\"))"
   ]
  },
  {
   "cell_type": "code",
   "execution_count": 26,
   "id": "295abf03",
   "metadata": {},
   "outputs": [
    {
     "data": {
      "image/png": "[encoded data removed]",
      "text/plain": [
       "<Figure size 1440x432 with 1 Axes>"
      ]
     },
     "metadata": {
      "needs_background": "light"
     },
     "output_type": "display_data"
    }
   ],
   "source": [
    "#plot feature importance of xgb\n",
    "importance_df=pd.DataFrame(xgb_cv2.best_estimator_.feature_importances_, \n",
    "                           index=X_train2.columns, columns=[\"Feature Importance\"])\n",
    "\n",
    "importance_df.sort_values(by=\"Feature Importance\", ascending=False).head(10).plot(kind=\"bar\",figsize=(20,6));"
   ]
  },
  {
   "cell_type": "code",
   "execution_count": 29,
   "id": "a2907ed5",
   "metadata": {},
   "outputs": [
    {
     "name": "stdout",
     "output_type": "stream",
     "text": [
      "Classification report\n",
      "                        precision    recall  f1-score   support\n",
      "\n",
      "                HV_101       0.98      0.96      0.97        94\n",
      "                HV_201       0.98      1.00      0.99        63\n",
      "               LCV_103       0.95      0.89      0.92        45\n",
      "               LCV_202       1.00      1.00      1.00         1\n",
      "               LCV_203       1.00      0.91      0.95        43\n",
      "                 Pumps       1.00      0.33      0.50         3\n",
      "                SV_101       0.97      0.90      0.93       127\n",
      "           SV_101_half       1.00      1.00      1.00         2\n",
      "              SV_102_A       1.00      0.75      0.86         4\n",
      "              SV_102_B       1.00      1.00      1.00         1\n",
      "                SV_201       0.98      0.79      0.88        68\n",
      "              SV_202_B       1.00      1.00      1.00         6\n",
      "                   dos       0.94      0.94      0.94        52\n",
      "             injection       1.00      0.83      0.91         6\n",
      "                normal       0.98      1.00      0.99      2070\n",
      "overall_instrument_air       0.92      0.77      0.84        31\n",
      "                 power       0.89      0.74      0.81        23\n",
      "\n",
      "              accuracy                           0.97      2639\n",
      "             macro avg       0.98      0.87      0.91      2639\n",
      "          weighted avg       0.97      0.97      0.97      2639\n",
      "\n",
      "\n",
      "\n"
     ]
    }
   ],
   "source": [
    "#print classification report\n",
    "from sklearn.metrics import classification_report, plot_confusion_matrix\n",
    "print('Classification report')\n",
    "print(classification_report(y_test2, y_hat2,target_names=labels))\n",
    "print('\\n')"
   ]
  },
  {
   "cell_type": "code",
   "execution_count": 30,
   "id": "b89d3a10",
   "metadata": {},
   "outputs": [
    {
     "data": {
      "text/plain": [
       "normal                    10347\n",
       "SV_101                      632\n",
       "HV_101                      468\n",
       "SV_201                      340\n",
       "HV_201                      317\n",
       "dos                         261\n",
       "LCV_103                     226\n",
       "LCV_203                     216\n",
       "overall_instrument_air      156\n",
       "power                       115\n",
       "SV_202_B                     29\n",
       "injection                    29\n",
       "SV_102_A                     18\n",
       "Pumps                        15\n",
       "SV_101_half                  12\n",
       "LCV_202                       7\n",
       "SV_102_B                      6\n",
       "Name: event, dtype: int64"
      ]
     },
     "execution_count": 30,
     "metadata": {},
     "output_type": "execute_result"
    }
   ],
   "source": [
    "data.event.value_counts()"
   ]
  },
  {
   "cell_type": "code",
   "execution_count": 31,
   "id": "4cef6265",
   "metadata": {},
   "outputs": [
    {
     "data": {
      "text/plain": [
       "14    10347\n",
       "6       632\n",
       "0       468\n",
       "10      340\n",
       "1       317\n",
       "12      261\n",
       "2       226\n",
       "4       216\n",
       "15      156\n",
       "16      115\n",
       "11       29\n",
       "13       29\n",
       "8        18\n",
       "5        15\n",
       "7        12\n",
       "3         7\n",
       "9         6\n",
       "Name: EncodedErrors2, dtype: int64"
      ]
     },
     "execution_count": 31,
     "metadata": {},
     "output_type": "execute_result"
    }
   ],
   "source": [
    "data.EncodedErrors2.value_counts()"
   ]
  },
  {
   "cell_type": "code",
   "execution_count": 28,
   "id": "583c7dd8",
   "metadata": {},
   "outputs": [],
   "source": [
    "labels=[\"HV_101\",\"HV_201\",\"LCV_103\",\"LCV_202\",\"LCV_203\",\"Pumps\",\"SV_101\",\"SV_101_half\",\"SV_102_A\",\"SV_102_B\",\"SV_201\",\"SV_202_B\",\"dos\",\"injection\",\"normal\",\"overall_instrument_air\",\"power\"]"
   ]
  },
  {
   "cell_type": "markdown",
   "id": "a0adf633",
   "metadata": {},
   "source": [
    "Next, we fit the new data to see how the algorithm performs in this case. The data has changed in a couple of different ways: 1.) We now do not randomly split the training and test set anymore, as this can lead to data leakage, in particular for the cyberattacks. 2.) We observe that there are often large periods of data missing for cyberattacks. Therefore, we define a new feature that will act as a warning flag in this case. Apart from that, the missing data is still filled in with the last measured previous value. 3.) We have new features accounting for the zeek log data."
   ]
  },
  {
   "cell_type": "code",
   "execution_count": 32,
   "id": "1dfa815c",
   "metadata": {},
   "outputs": [
    {
     "data": {
      "text/html": [
       "<div>\n",
       "<style scoped>\n",
       "    .dataframe tbody tr th:only-of-type {\n",
       "        vertical-align: middle;\n",
       "    }\n",
       "\n",
       "    .dataframe tbody tr th {\n",
       "        vertical-align: top;\n",
       "    }\n",
       "\n",
       "    .dataframe thead th {\n",
       "        text-align: right;\n",
       "    }\n",
       "</style>\n",
       "<table border=\"1\" class=\"dataframe\">\n",
       "  <thead>\n",
       "    <tr style=\"text-align: right;\">\n",
       "      <th></th>\n",
       "      <th>Unnamed: 0</th>\n",
       "      <th>max_FIT102_Raw_Signal</th>\n",
       "      <th>min_FIT102_Raw_Signal</th>\n",
       "      <th>mean_FIT102_Raw_Signal</th>\n",
       "      <th>std_FIT102_Raw_Signal</th>\n",
       "      <th>max_FIT202_Raw_Signal</th>\n",
       "      <th>min_FIT202_Raw_Signal</th>\n",
       "      <th>mean_FIT202_Raw_Signal</th>\n",
       "      <th>std_FIT202_Raw_Signal</th>\n",
       "      <th>max_LIT101_Raw_Signal</th>\n",
       "      <th>min_LIT101_Raw_Signal</th>\n",
       "      <th>mean_LIT101_Raw_Signal</th>\n",
       "      <th>std_LIT101_Raw_Signal</th>\n",
       "      <th>max_LIT201_Raw_Signal</th>\n",
       "      <th>min_LIT201_Raw_Signal</th>\n",
       "      <th>mean_LIT201_Raw_Signal</th>\n",
       "      <th>std_LIT201_Raw_Signal</th>\n",
       "      <th>max_PIT101_Raw_Signal</th>\n",
       "      <th>min_PIT101_Raw_Signal</th>\n",
       "      <th>mean_PIT101_Raw_Signal</th>\n",
       "      <th>std_PIT101_Raw_Signal</th>\n",
       "      <th>max_PIT102_Raw_Signal</th>\n",
       "      <th>min_PIT102_Raw_Signal</th>\n",
       "      <th>mean_PIT102_Raw_Signal</th>\n",
       "      <th>std_PIT102_Raw_Signal</th>\n",
       "      <th>max_PIT201_Raw_Signal</th>\n",
       "      <th>min_PIT201_Raw_Signal</th>\n",
       "      <th>mean_PIT201_Raw_Signal</th>\n",
       "      <th>std_PIT201_Raw_Signal</th>\n",
       "      <th>max_PIT202_Raw_Signal</th>\n",
       "      <th>min_PIT202_Raw_Signal</th>\n",
       "      <th>mean_PIT202_Raw_Signal</th>\n",
       "      <th>std_PIT202_Raw_Signal</th>\n",
       "      <th>max_SI102_Raw_Signal</th>\n",
       "      <th>min_SI102_Raw_Signal</th>\n",
       "      <th>mean_SI102_Raw_Signal</th>\n",
       "      <th>std_SI102_Raw_Signal</th>\n",
       "      <th>max_SI202_Raw_Signal</th>\n",
       "      <th>min_SI202_Raw_Signal</th>\n",
       "      <th>mean_SI202_Raw_Signal</th>\n",
       "      <th>std_SI202_Raw_Signal</th>\n",
       "      <th>na_FIT102_Raw_Signal</th>\n",
       "      <th>na_FIT202_Raw_Signal</th>\n",
       "      <th>na_LIT101_Raw_Signal</th>\n",
       "      <th>na_LIT201_Raw_Signal</th>\n",
       "      <th>na_PIT101_Raw_Signal</th>\n",
       "      <th>na_PIT102_Raw_Signal</th>\n",
       "      <th>na_PIT201_Raw_Signal</th>\n",
       "      <th>na_PIT202_Raw_Signal</th>\n",
       "      <th>na_SI102_Raw_Signal</th>\n",
       "      <th>na_SI202_Raw_Signal</th>\n",
       "      <th>zeek_conn</th>\n",
       "      <th>event</th>\n",
       "      <th>binary</th>\n",
       "      <th>ternary</th>\n",
       "    </tr>\n",
       "  </thead>\n",
       "  <tbody>\n",
       "    <tr>\n",
       "      <th>0</th>\n",
       "      <td>2022-07-14 09:53:29</td>\n",
       "      <td>4.08</td>\n",
       "      <td>-3.8</td>\n",
       "      <td>-0.056552</td>\n",
       "      <td>1.900707</td>\n",
       "      <td>3.82</td>\n",
       "      <td>-5.52</td>\n",
       "      <td>0.120000</td>\n",
       "      <td>2.399083</td>\n",
       "      <td>2.16</td>\n",
       "      <td>-2.38</td>\n",
       "      <td>0.038621</td>\n",
       "      <td>1.338549</td>\n",
       "      <td>0.5</td>\n",
       "      <td>-0.58</td>\n",
       "      <td>0.033103</td>\n",
       "      <td>0.217996</td>\n",
       "      <td>0.16</td>\n",
       "      <td>-0.20</td>\n",
       "      <td>0.005517</td>\n",
       "      <td>0.082097</td>\n",
       "      <td>1.20</td>\n",
       "      <td>-1.06</td>\n",
       "      <td>0.013793</td>\n",
       "      <td>0.443560</td>\n",
       "      <td>0.42</td>\n",
       "      <td>-0.30</td>\n",
       "      <td>0.006897</td>\n",
       "      <td>0.214494</td>\n",
       "      <td>0.78</td>\n",
       "      <td>-0.58</td>\n",
       "      <td>-0.007586</td>\n",
       "      <td>0.325682</td>\n",
       "      <td>7.54</td>\n",
       "      <td>-6.68</td>\n",
       "      <td>0.077931</td>\n",
       "      <td>2.840228</td>\n",
       "      <td>4.92</td>\n",
       "      <td>-6.04</td>\n",
       "      <td>-0.028966</td>\n",
       "      <td>2.743697</td>\n",
       "      <td>0</td>\n",
       "      <td>0</td>\n",
       "      <td>0</td>\n",
       "      <td>0</td>\n",
       "      <td>0</td>\n",
       "      <td>0</td>\n",
       "      <td>0</td>\n",
       "      <td>0</td>\n",
       "      <td>0</td>\n",
       "      <td>0</td>\n",
       "      <td>7.0</td>\n",
       "      <td>normal</td>\n",
       "      <td>normal</td>\n",
       "      <td>normal</td>\n",
       "    </tr>\n",
       "    <tr>\n",
       "      <th>1</th>\n",
       "      <td>2022-07-14 09:53:59</td>\n",
       "      <td>3.42</td>\n",
       "      <td>-3.8</td>\n",
       "      <td>-0.145517</td>\n",
       "      <td>1.691043</td>\n",
       "      <td>3.78</td>\n",
       "      <td>-5.52</td>\n",
       "      <td>-0.089655</td>\n",
       "      <td>2.070580</td>\n",
       "      <td>2.16</td>\n",
       "      <td>-2.12</td>\n",
       "      <td>0.020000</td>\n",
       "      <td>1.296644</td>\n",
       "      <td>0.5</td>\n",
       "      <td>-0.58</td>\n",
       "      <td>0.039310</td>\n",
       "      <td>0.224721</td>\n",
       "      <td>0.12</td>\n",
       "      <td>-0.20</td>\n",
       "      <td>-0.001379</td>\n",
       "      <td>0.071100</td>\n",
       "      <td>0.88</td>\n",
       "      <td>-1.06</td>\n",
       "      <td>-0.000690</td>\n",
       "      <td>0.408568</td>\n",
       "      <td>0.52</td>\n",
       "      <td>-0.40</td>\n",
       "      <td>0.007586</td>\n",
       "      <td>0.237752</td>\n",
       "      <td>0.78</td>\n",
       "      <td>-0.58</td>\n",
       "      <td>-0.020000</td>\n",
       "      <td>0.345419</td>\n",
       "      <td>5.64</td>\n",
       "      <td>-6.68</td>\n",
       "      <td>-0.006207</td>\n",
       "      <td>2.759421</td>\n",
       "      <td>4.92</td>\n",
       "      <td>-4.92</td>\n",
       "      <td>-0.013793</td>\n",
       "      <td>2.558119</td>\n",
       "      <td>0</td>\n",
       "      <td>0</td>\n",
       "      <td>0</td>\n",
       "      <td>0</td>\n",
       "      <td>0</td>\n",
       "      <td>0</td>\n",
       "      <td>0</td>\n",
       "      <td>0</td>\n",
       "      <td>0</td>\n",
       "      <td>0</td>\n",
       "      <td>7.0</td>\n",
       "      <td>normal</td>\n",
       "      <td>normal</td>\n",
       "      <td>normal</td>\n",
       "    </tr>\n",
       "    <tr>\n",
       "      <th>2</th>\n",
       "      <td>2022-07-14 09:54:29</td>\n",
       "      <td>3.42</td>\n",
       "      <td>-4.9</td>\n",
       "      <td>0.065517</td>\n",
       "      <td>1.909038</td>\n",
       "      <td>3.78</td>\n",
       "      <td>-5.52</td>\n",
       "      <td>0.017241</td>\n",
       "      <td>1.875357</td>\n",
       "      <td>2.16</td>\n",
       "      <td>-2.12</td>\n",
       "      <td>0.027586</td>\n",
       "      <td>1.348771</td>\n",
       "      <td>0.5</td>\n",
       "      <td>-0.58</td>\n",
       "      <td>0.042759</td>\n",
       "      <td>0.244115</td>\n",
       "      <td>0.10</td>\n",
       "      <td>-0.12</td>\n",
       "      <td>-0.000690</td>\n",
       "      <td>0.056690</td>\n",
       "      <td>0.88</td>\n",
       "      <td>-1.06</td>\n",
       "      <td>0.052414</td>\n",
       "      <td>0.462367</td>\n",
       "      <td>0.52</td>\n",
       "      <td>-0.56</td>\n",
       "      <td>0.002759</td>\n",
       "      <td>0.249613</td>\n",
       "      <td>0.78</td>\n",
       "      <td>-0.58</td>\n",
       "      <td>0.013793</td>\n",
       "      <td>0.321341</td>\n",
       "      <td>5.72</td>\n",
       "      <td>-5.16</td>\n",
       "      <td>0.217931</td>\n",
       "      <td>2.786197</td>\n",
       "      <td>5.00</td>\n",
       "      <td>-4.92</td>\n",
       "      <td>-0.024138</td>\n",
       "      <td>2.702752</td>\n",
       "      <td>0</td>\n",
       "      <td>0</td>\n",
       "      <td>0</td>\n",
       "      <td>0</td>\n",
       "      <td>0</td>\n",
       "      <td>0</td>\n",
       "      <td>0</td>\n",
       "      <td>0</td>\n",
       "      <td>0</td>\n",
       "      <td>0</td>\n",
       "      <td>7.0</td>\n",
       "      <td>normal</td>\n",
       "      <td>normal</td>\n",
       "      <td>normal</td>\n",
       "    </tr>\n",
       "    <tr>\n",
       "      <th>3</th>\n",
       "      <td>2022-07-14 09:54:59</td>\n",
       "      <td>3.42</td>\n",
       "      <td>-4.9</td>\n",
       "      <td>0.035172</td>\n",
       "      <td>1.834936</td>\n",
       "      <td>3.78</td>\n",
       "      <td>-5.52</td>\n",
       "      <td>0.016552</td>\n",
       "      <td>2.018946</td>\n",
       "      <td>1.96</td>\n",
       "      <td>-2.12</td>\n",
       "      <td>0.051724</td>\n",
       "      <td>1.228164</td>\n",
       "      <td>0.3</td>\n",
       "      <td>-0.58</td>\n",
       "      <td>0.011724</td>\n",
       "      <td>0.218601</td>\n",
       "      <td>0.12</td>\n",
       "      <td>-0.12</td>\n",
       "      <td>0.001379</td>\n",
       "      <td>0.059745</td>\n",
       "      <td>0.88</td>\n",
       "      <td>-1.06</td>\n",
       "      <td>-0.075172</td>\n",
       "      <td>0.483696</td>\n",
       "      <td>0.52</td>\n",
       "      <td>-0.56</td>\n",
       "      <td>-0.003448</td>\n",
       "      <td>0.223292</td>\n",
       "      <td>0.58</td>\n",
       "      <td>-0.58</td>\n",
       "      <td>-0.005517</td>\n",
       "      <td>0.306776</td>\n",
       "      <td>5.72</td>\n",
       "      <td>-5.48</td>\n",
       "      <td>-0.451724</td>\n",
       "      <td>2.880811</td>\n",
       "      <td>5.00</td>\n",
       "      <td>-5.46</td>\n",
       "      <td>-0.130345</td>\n",
       "      <td>2.746721</td>\n",
       "      <td>0</td>\n",
       "      <td>0</td>\n",
       "      <td>0</td>\n",
       "      <td>0</td>\n",
       "      <td>0</td>\n",
       "      <td>0</td>\n",
       "      <td>0</td>\n",
       "      <td>0</td>\n",
       "      <td>0</td>\n",
       "      <td>0</td>\n",
       "      <td>4.0</td>\n",
       "      <td>normal</td>\n",
       "      <td>normal</td>\n",
       "      <td>normal</td>\n",
       "    </tr>\n",
       "    <tr>\n",
       "      <th>4</th>\n",
       "      <td>2022-07-14 09:55:29</td>\n",
       "      <td>2.74</td>\n",
       "      <td>-4.9</td>\n",
       "      <td>0.017241</td>\n",
       "      <td>1.718943</td>\n",
       "      <td>3.20</td>\n",
       "      <td>-3.22</td>\n",
       "      <td>0.048966</td>\n",
       "      <td>1.533796</td>\n",
       "      <td>1.96</td>\n",
       "      <td>-2.04</td>\n",
       "      <td>-0.005747</td>\n",
       "      <td>1.186498</td>\n",
       "      <td>0.3</td>\n",
       "      <td>-0.58</td>\n",
       "      <td>0.000690</td>\n",
       "      <td>0.214575</td>\n",
       "      <td>0.12</td>\n",
       "      <td>-0.12</td>\n",
       "      <td>-0.001379</td>\n",
       "      <td>0.056298</td>\n",
       "      <td>0.88</td>\n",
       "      <td>-0.94</td>\n",
       "      <td>-0.011034</td>\n",
       "      <td>0.474690</td>\n",
       "      <td>0.54</td>\n",
       "      <td>-0.56</td>\n",
       "      <td>0.012184</td>\n",
       "      <td>0.249037</td>\n",
       "      <td>0.58</td>\n",
       "      <td>-0.58</td>\n",
       "      <td>0.000690</td>\n",
       "      <td>0.314028</td>\n",
       "      <td>5.72</td>\n",
       "      <td>-5.48</td>\n",
       "      <td>-0.140000</td>\n",
       "      <td>2.896209</td>\n",
       "      <td>5.28</td>\n",
       "      <td>-5.46</td>\n",
       "      <td>-0.075862</td>\n",
       "      <td>2.600079</td>\n",
       "      <td>0</td>\n",
       "      <td>0</td>\n",
       "      <td>0</td>\n",
       "      <td>0</td>\n",
       "      <td>0</td>\n",
       "      <td>0</td>\n",
       "      <td>0</td>\n",
       "      <td>0</td>\n",
       "      <td>0</td>\n",
       "      <td>0</td>\n",
       "      <td>5.0</td>\n",
       "      <td>normal</td>\n",
       "      <td>normal</td>\n",
       "      <td>normal</td>\n",
       "    </tr>\n",
       "  </tbody>\n",
       "</table>\n",
       "</div>"
      ],
      "text/plain": [
       "            Unnamed: 0  max_FIT102_Raw_Signal  min_FIT102_Raw_Signal  \\\n",
       "0  2022-07-14 09:53:29                   4.08                   -3.8   \n",
       "1  2022-07-14 09:53:59                   3.42                   -3.8   \n",
       "2  2022-07-14 09:54:29                   3.42                   -4.9   \n",
       "3  2022-07-14 09:54:59                   3.42                   -4.9   \n",
       "4  2022-07-14 09:55:29                   2.74                   -4.9   \n",
       "\n",
       "   mean_FIT102_Raw_Signal  std_FIT102_Raw_Signal  max_FIT202_Raw_Signal  \\\n",
       "0               -0.056552               1.900707                   3.82   \n",
       "1               -0.145517               1.691043                   3.78   \n",
       "2                0.065517               1.909038                   3.78   \n",
       "3                0.035172               1.834936                   3.78   \n",
       "4                0.017241               1.718943                   3.20   \n",
       "\n",
       "   min_FIT202_Raw_Signal  mean_FIT202_Raw_Signal  std_FIT202_Raw_Signal  \\\n",
       "0                  -5.52                0.120000               2.399083   \n",
       "1                  -5.52               -0.089655               2.070580   \n",
       "2                  -5.52                0.017241               1.875357   \n",
       "3                  -5.52                0.016552               2.018946   \n",
       "4                  -3.22                0.048966               1.533796   \n",
       "\n",
       "   max_LIT101_Raw_Signal  min_LIT101_Raw_Signal  mean_LIT101_Raw_Signal  \\\n",
       "0                   2.16                  -2.38                0.038621   \n",
       "1                   2.16                  -2.12                0.020000   \n",
       "2                   2.16                  -2.12                0.027586   \n",
       "3                   1.96                  -2.12                0.051724   \n",
       "4                   1.96                  -2.04               -0.005747   \n",
       "\n",
       "   std_LIT101_Raw_Signal  max_LIT201_Raw_Signal  min_LIT201_Raw_Signal  \\\n",
       "0               1.338549                    0.5                  -0.58   \n",
       "1               1.296644                    0.5                  -0.58   \n",
       "2               1.348771                    0.5                  -0.58   \n",
       "3               1.228164                    0.3                  -0.58   \n",
       "4               1.186498                    0.3                  -0.58   \n",
       "\n",
       "   mean_LIT201_Raw_Signal  std_LIT201_Raw_Signal  max_PIT101_Raw_Signal  \\\n",
       "0                0.033103               0.217996                   0.16   \n",
       "1                0.039310               0.224721                   0.12   \n",
       "2                0.042759               0.244115                   0.10   \n",
       "3                0.011724               0.218601                   0.12   \n",
       "4                0.000690               0.214575                   0.12   \n",
       "\n",
       "   min_PIT101_Raw_Signal  mean_PIT101_Raw_Signal  std_PIT101_Raw_Signal  \\\n",
       "0                  -0.20                0.005517               0.082097   \n",
       "1                  -0.20               -0.001379               0.071100   \n",
       "2                  -0.12               -0.000690               0.056690   \n",
       "3                  -0.12                0.001379               0.059745   \n",
       "4                  -0.12               -0.001379               0.056298   \n",
       "\n",
       "   max_PIT102_Raw_Signal  min_PIT102_Raw_Signal  mean_PIT102_Raw_Signal  \\\n",
       "0                   1.20                  -1.06                0.013793   \n",
       "1                   0.88                  -1.06               -0.000690   \n",
       "2                   0.88                  -1.06                0.052414   \n",
       "3                   0.88                  -1.06               -0.075172   \n",
       "4                   0.88                  -0.94               -0.011034   \n",
       "\n",
       "   std_PIT102_Raw_Signal  max_PIT201_Raw_Signal  min_PIT201_Raw_Signal  \\\n",
       "0               0.443560                   0.42                  -0.30   \n",
       "1               0.408568                   0.52                  -0.40   \n",
       "2               0.462367                   0.52                  -0.56   \n",
       "3               0.483696                   0.52                  -0.56   \n",
       "4               0.474690                   0.54                  -0.56   \n",
       "\n",
       "   mean_PIT201_Raw_Signal  std_PIT201_Raw_Signal  max_PIT202_Raw_Signal  \\\n",
       "0                0.006897               0.214494                   0.78   \n",
       "1                0.007586               0.237752                   0.78   \n",
       "2                0.002759               0.249613                   0.78   \n",
       "3               -0.003448               0.223292                   0.58   \n",
       "4                0.012184               0.249037                   0.58   \n",
       "\n",
       "   min_PIT202_Raw_Signal  mean_PIT202_Raw_Signal  std_PIT202_Raw_Signal  \\\n",
       "0                  -0.58               -0.007586               0.325682   \n",
       "1                  -0.58               -0.020000               0.345419   \n",
       "2                  -0.58                0.013793               0.321341   \n",
       "3                  -0.58               -0.005517               0.306776   \n",
       "4                  -0.58                0.000690               0.314028   \n",
       "\n",
       "   max_SI102_Raw_Signal  min_SI102_Raw_Signal  mean_SI102_Raw_Signal  \\\n",
       "0                  7.54                 -6.68               0.077931   \n",
       "1                  5.64                 -6.68              -0.006207   \n",
       "2                  5.72                 -5.16               0.217931   \n",
       "3                  5.72                 -5.48              -0.451724   \n",
       "4                  5.72                 -5.48              -0.140000   \n",
       "\n",
       "   std_SI102_Raw_Signal  max_SI202_Raw_Signal  min_SI202_Raw_Signal  \\\n",
       "0              2.840228                  4.92                 -6.04   \n",
       "1              2.759421                  4.92                 -4.92   \n",
       "2              2.786197                  5.00                 -4.92   \n",
       "3              2.880811                  5.00                 -5.46   \n",
       "4              2.896209                  5.28                 -5.46   \n",
       "\n",
       "   mean_SI202_Raw_Signal  std_SI202_Raw_Signal  na_FIT102_Raw_Signal  \\\n",
       "0              -0.028966              2.743697                     0   \n",
       "1              -0.013793              2.558119                     0   \n",
       "2              -0.024138              2.702752                     0   \n",
       "3              -0.130345              2.746721                     0   \n",
       "4              -0.075862              2.600079                     0   \n",
       "\n",
       "   na_FIT202_Raw_Signal  na_LIT101_Raw_Signal  na_LIT201_Raw_Signal  \\\n",
       "0                     0                     0                     0   \n",
       "1                     0                     0                     0   \n",
       "2                     0                     0                     0   \n",
       "3                     0                     0                     0   \n",
       "4                     0                     0                     0   \n",
       "\n",
       "   na_PIT101_Raw_Signal  na_PIT102_Raw_Signal  na_PIT201_Raw_Signal  \\\n",
       "0                     0                     0                     0   \n",
       "1                     0                     0                     0   \n",
       "2                     0                     0                     0   \n",
       "3                     0                     0                     0   \n",
       "4                     0                     0                     0   \n",
       "\n",
       "   na_PIT202_Raw_Signal  na_SI102_Raw_Signal  na_SI202_Raw_Signal  zeek_conn  \\\n",
       "0                     0                    0                    0        7.0   \n",
       "1                     0                    0                    0        7.0   \n",
       "2                     0                    0                    0        7.0   \n",
       "3                     0                    0                    0        4.0   \n",
       "4                     0                    0                    0        5.0   \n",
       "\n",
       "    event  binary ternary  \n",
       "0  normal  normal  normal  \n",
       "1  normal  normal  normal  \n",
       "2  normal  normal  normal  \n",
       "3  normal  normal  normal  \n",
       "4  normal  normal  normal  "
      ]
     },
     "execution_count": 32,
     "metadata": {},
     "output_type": "execute_result"
    }
   ],
   "source": [
    "path_train=\"../../data/Rockwell_Flow_Loop_Data/train_wzeek.csv\"\n",
    "data_train=pd.read_csv(path_train)\n",
    "path_test=\"../../data/Rockwell_Flow_Loop_Data/test_wzeek.csv\"\n",
    "data_test=pd.read_csv(path_test)\n",
    "data_train.head(5)"
   ]
  },
  {
   "cell_type": "code",
   "execution_count": 86,
   "id": "5a19b127",
   "metadata": {},
   "outputs": [],
   "source": [
    "features_na=data_train[[\"na_FIT102_Raw_Signal\",\"na_FIT202_Raw_Signal\",\"na_LIT101_Raw_Signal\",\"na_LIT201_Raw_Signal\",\"na_PIT101_Raw_Signal\",\"na_PIT102_Raw_Signal\",\"na_PIT201_Raw_Signal\",\"na_PIT202_Raw_Signal\",\"na_SI102_Raw_Signal\",\"na_SI202_Raw_Signal\"]]\n",
    "data_train[\"na\"]=(features_na != 0).sum(axis=1)//10\n",
    "features_na_test=data_test[[\"na_FIT102_Raw_Signal\",\"na_FIT202_Raw_Signal\",\"na_LIT101_Raw_Signal\",\"na_LIT201_Raw_Signal\",\"na_PIT101_Raw_Signal\",\"na_PIT102_Raw_Signal\",\"na_PIT201_Raw_Signal\",\"na_PIT202_Raw_Signal\",\"na_SI102_Raw_Signal\",\"na_SI202_Raw_Signal\"]]\n",
    "data_test[\"na\"]=(features_na_test != 0).sum(axis=1)//10"
   ]
  },
  {
   "cell_type": "code",
   "execution_count": 87,
   "id": "a8abe65e",
   "metadata": {},
   "outputs": [
    {
     "data": {
      "text/plain": [
       "0    1522\n",
       "1      28\n",
       "Name: na, dtype: int64"
      ]
     },
     "execution_count": 87,
     "metadata": {},
     "output_type": "execute_result"
    }
   ],
   "source": [
    "data_test[\"na\"].value_counts()"
   ]
  },
  {
   "cell_type": "code",
   "execution_count": 88,
   "id": "2dd59cb1",
   "metadata": {},
   "outputs": [],
   "source": [
    "#ordinal encode labels\n",
    "labelencoder=LabelEncoder()\n",
    "labelencoder.fit(data_train.ternary)\n",
    "data_train[\"EncodedErrors\"]=labelencoder.transform(data_train.ternary)\n",
    "data_test[\"EncodedErrors\"]=labelencoder.transform(data_test.ternary)"
   ]
  },
  {
   "cell_type": "code",
   "execution_count": 89,
   "id": "a0e22ed6",
   "metadata": {},
   "outputs": [],
   "source": [
    "features_train=data_train\n",
    "features_train=features_train.drop([\"event\",\"binary\",\"ternary\",\"Unnamed: 0\",\"EncodedErrors\",\"na_FIT102_Raw_Signal\",\"na_FIT202_Raw_Signal\",\"na_LIT101_Raw_Signal\",\"na_LIT201_Raw_Signal\",\"na_PIT101_Raw_Signal\",\"na_PIT102_Raw_Signal\",\"na_PIT201_Raw_Signal\",\"na_PIT202_Raw_Signal\",\"na_SI102_Raw_Signal\",\"na_SI202_Raw_Signal\"],axis=1)\n",
    "y_train=data_train[\"EncodedErrors\"]\n",
    "features_test=data_test\n",
    "features_test=features_test.drop([\"event\",\"binary\",\"ternary\",\"Unnamed: 0\",\"EncodedErrors\",\"na_FIT102_Raw_Signal\",\"na_FIT202_Raw_Signal\",\"na_LIT101_Raw_Signal\",\"na_LIT201_Raw_Signal\",\"na_PIT101_Raw_Signal\",\"na_PIT102_Raw_Signal\",\"na_PIT201_Raw_Signal\",\"na_PIT202_Raw_Signal\",\"na_SI102_Raw_Signal\",\"na_SI202_Raw_Signal\"],axis=1)\n",
    "y_test=data_test[\"EncodedErrors\"]"
   ]
  },
  {
   "cell_type": "code",
   "execution_count": 90,
   "id": "4f34d130",
   "metadata": {},
   "outputs": [],
   "source": [
    "X_train=features_train\n",
    "X_test=features_test"
   ]
  },
  {
   "cell_type": "code",
   "execution_count": 91,
   "id": "eb891760",
   "metadata": {},
   "outputs": [],
   "source": [
    "from sklearn.preprocessing import StandardScaler\n",
    "attributes=[\"max_FIT102_Raw_Signal\",\"min_FIT102_Raw_Signal\",\"mean_FIT102_Raw_Signal\",\"std_FIT102_Raw_Signal\",\"max_FIT202_Raw_Signal\",\"min_FIT202_Raw_Signal\",\"mean_FIT202_Raw_Signal\",\"std_FIT202_Raw_Signal\",\"max_LIT101_Raw_Signal\",\"min_LIT101_Raw_Signal\",\"mean_LIT101_Raw_Signal\",\"std_LIT101_Raw_Signal\",\"max_LIT201_Raw_Signal\",\"min_LIT201_Raw_Signal\",\"mean_LIT201_Raw_Signal\",\"std_LIT201_Raw_Signal\",\"max_PIT101_Raw_Signal\",\"min_PIT101_Raw_Signal\",\"mean_PIT101_Raw_Signal\",\"std_PIT101_Raw_Signal\",\"max_PIT102_Raw_Signal\",\"min_PIT102_Raw_Signal\",\"mean_PIT102_Raw_Signal\",\"std_PIT102_Raw_Signal\",\"max_PIT201_Raw_Signal\",\"min_PIT201_Raw_Signal\",\"mean_PIT201_Raw_Signal\",\"std_PIT201_Raw_Signal\",\"max_PIT202_Raw_Signal\",\"min_PIT202_Raw_Signal\",\"mean_PIT202_Raw_Signal\",\"std_PIT202_Raw_Signal\",\"max_SI102_Raw_Signal\",\"min_SI102_Raw_Signal\",\"mean_SI102_Raw_Signal\",\"std_SI102_Raw_Signal\",\"max_SI202_Raw_Signal\",\"min_SI202_Raw_Signal\",\"mean_SI202_Raw_Signal\",\"std_SI202_Raw_Signal\",\"zeek_conn\",\"na\"]\n",
    "scaler=StandardScaler()\n",
    "scaler.fit(X_train[attributes])\n",
    "X_train[attributes]=scaler.transform(X_train[attributes])\n",
    "X_test[attributes]=scaler.transform(X_test[attributes])"
   ]
  },
  {
   "cell_type": "code",
   "execution_count": 92,
   "id": "7c5d43fe",
   "metadata": {},
   "outputs": [
    {
     "name": "stdout",
     "output_type": "stream",
     "text": [
      "[[   0   46]\n",
      " [   1  413]\n",
      " [   2 1091]]\n"
     ]
    }
   ],
   "source": [
    "unique, counts = np.unique(y_test, return_counts=True)\n",
    "\n",
    "print(np.asarray((unique, counts)).T)"
   ]
  },
  {
   "cell_type": "code",
   "execution_count": 93,
   "id": "64677ed6",
   "metadata": {},
   "outputs": [
    {
     "name": "stdout",
     "output_type": "stream",
     "text": [
      "Best parameters: {'gamma': 0.15, 'learning_rate': 0.2, 'max_depth': 6, 'n_estimators': 125} , Best CV Accuracy: 0.8184504842236799\n"
     ]
    }
   ],
   "source": [
    "from xgboost import XGBClassifier\n",
    "from sklearn.model_selection import GridSearchCV\n",
    "\n",
    "xgb3=XGBClassifier(objective=\"multi:softmax\",use_label_encoder=False)\n",
    "parameters={\"n_estimators\":[125], \"learning_rate\":[0.2], \"max_depth\":[6], \"gamma\":[0.15]}\n",
    "\n",
    "xgb_cv3=GridSearchCV(xgb3, parameters, scoring=\"accuracy\",cv=5)\n",
    "xgb_cv3.fit(X_train,y_train)\n",
    "\n",
    "print(\"Best parameters:\", xgb_cv3.best_params_ , \", Best CV Accuracy:\", xgb_cv3.best_score_)"
   ]
  },
  {
   "cell_type": "code",
   "execution_count": 94,
   "id": "62517db6",
   "metadata": {},
   "outputs": [
    {
     "name": "stdout",
     "output_type": "stream",
     "text": [
      "XGBC has test accuracy 87.42 %\n"
     ]
    }
   ],
   "source": [
    "#prediction\n",
    "from sklearn.metrics import accuracy_score\n",
    "y_hat3=xgb_cv3.best_estimator_.predict(X_test)\n",
    "print(\"XGBC has test accuracy\", round(100*(accuracy_score(y_hat3,y_test)),2), \"%\")"
   ]
  },
  {
   "cell_type": "code",
   "execution_count": 95,
   "id": "536080ec",
   "metadata": {},
   "outputs": [
    {
     "name": "stdout",
     "output_type": "stream",
     "text": [
      "F1 score of baseline is 0.01921470342522974\n",
      "F1 score of XGB is 0.7254673205715038\n"
     ]
    }
   ],
   "source": [
    "y_baseline=np.zeros(len(y_test))\n",
    "from sklearn.metrics import f1_score\n",
    "print(\"F1 score of baseline is\", f1_score(y_test,y_baseline,average=\"macro\"))\n",
    "print(\"F1 score of XGB is\", f1_score(y_test,y_hat3,average=\"macro\"))"
   ]
  },
  {
   "cell_type": "code",
   "execution_count": 96,
   "id": "17bb264a",
   "metadata": {},
   "outputs": [
    {
     "data": {
      "image/png": "[encoded data removed]",
      "text/plain": [
       "<Figure size 1440x432 with 1 Axes>"
      ]
     },
     "metadata": {
      "needs_background": "light"
     },
     "output_type": "display_data"
    }
   ],
   "source": [
    "#plot feature importance of xgb\n",
    "importance_df=pd.DataFrame(xgb_cv3.best_estimator_.feature_importances_, \n",
    "                           index=X_train.columns, columns=[\"Feature Importance\"])\n",
    "\n",
    "importance_df.sort_values(by=\"Feature Importance\", ascending=False).head(10).plot(kind=\"bar\",figsize=(20,6));"
   ]
  },
  {
   "cell_type": "code",
   "execution_count": 101,
   "id": "c0018e81",
   "metadata": {},
   "outputs": [
    {
     "name": "stdout",
     "output_type": "stream",
     "text": [
      "Classification report\n",
      "              precision    recall  f1-score   support\n",
      "\n",
      "       cyber       1.00      0.30      0.47        46\n",
      "  mechanical       0.77      0.82      0.79       413\n",
      "      normal       0.92      0.92      0.92      1091\n",
      "\n",
      "    accuracy                           0.87      1550\n",
      "   macro avg       0.89      0.68      0.73      1550\n",
      "weighted avg       0.88      0.87      0.87      1550\n",
      "\n",
      "\n",
      "\n"
     ]
    }
   ],
   "source": [
    "#print classification report\n",
    "from sklearn.metrics import classification_report, plot_confusion_matrix\n",
    "print('Classification report')\n",
    "print(classification_report(y_test, y_hat3,target_names=[\"cyber\",\"mechanical\",\"normal\"]))\n",
    "print('\\n')"
   ]
  },
  {
   "cell_type": "code",
   "execution_count": 45,
   "id": "2c5fa61a",
   "metadata": {},
   "outputs": [
    {
     "data": {
      "text/plain": [
       "normal                    1091\n",
       "HV_201                     234\n",
       "LCV_103                     44\n",
       "SV_201                      42\n",
       "SV_101                      38\n",
       "LCV_203                     33\n",
       "dos                         30\n",
       "injection                   16\n",
       "power                       10\n",
       "overall_instrument_air       6\n",
       "Pumps                        6\n",
       "Name: event, dtype: int64"
      ]
     },
     "execution_count": 45,
     "metadata": {},
     "output_type": "execute_result"
    }
   ],
   "source": [
    "data_test.event.value_counts()"
   ]
  },
  {
   "cell_type": "code",
   "execution_count": 46,
   "id": "b66f9ed3",
   "metadata": {},
   "outputs": [
    {
     "data": {
      "text/plain": [
       "2    1091\n",
       "1     413\n",
       "0      46\n",
       "Name: EncodedErrors, dtype: int64"
      ]
     },
     "execution_count": 46,
     "metadata": {},
     "output_type": "execute_result"
    }
   ],
   "source": [
    "data_test.EncodedErrors.value_counts()"
   ]
  },
  {
   "cell_type": "markdown",
   "id": "d639c806",
   "metadata": {},
   "source": [
    "Also, we test the results of the binary classification:"
   ]
  },
  {
   "cell_type": "code",
   "execution_count": 116,
   "id": "79717051",
   "metadata": {},
   "outputs": [],
   "source": [
    "labelencoder2=LabelEncoder()\n",
    "labelencoder2.fit(data.binary)\n",
    "data_train[\"EncodedErrors\"]=labelencoder2.transform(data_train.binary)\n",
    "data_test[\"EncodedErrors\"]=labelencoder2.transform(data_test.binary)"
   ]
  },
  {
   "cell_type": "code",
   "execution_count": 117,
   "id": "8a31b480",
   "metadata": {},
   "outputs": [],
   "source": [
    "features_train=data_train\n",
    "features_train=features_train.drop([\"event\",\"binary\",\"ternary\",\"Unnamed: 0\",\"EncodedErrors\",\"na_FIT102_Raw_Signal\",\"na_FIT202_Raw_Signal\",\"na_LIT101_Raw_Signal\",\"na_LIT201_Raw_Signal\",\"na_PIT101_Raw_Signal\",\"na_PIT102_Raw_Signal\",\"na_PIT201_Raw_Signal\",\"na_PIT202_Raw_Signal\",\"na_SI102_Raw_Signal\",\"na_SI202_Raw_Signal\"],axis=1)\n",
    "y_train=data_train[\"EncodedErrors\"]\n",
    "features_test=data_test\n",
    "features_test=features_test.drop([\"event\",\"binary\",\"ternary\",\"Unnamed: 0\",\"EncodedErrors\",\"na_FIT102_Raw_Signal\",\"na_FIT202_Raw_Signal\",\"na_LIT101_Raw_Signal\",\"na_LIT201_Raw_Signal\",\"na_PIT101_Raw_Signal\",\"na_PIT102_Raw_Signal\",\"na_PIT201_Raw_Signal\",\"na_PIT202_Raw_Signal\",\"na_SI102_Raw_Signal\",\"na_SI202_Raw_Signal\"],axis=1)\n",
    "y_test=data_test[\"EncodedErrors\"]"
   ]
  },
  {
   "cell_type": "code",
   "execution_count": 118,
   "id": "64a4157f",
   "metadata": {},
   "outputs": [],
   "source": [
    "X_train=features_train\n",
    "X_test=features_test"
   ]
  },
  {
   "cell_type": "code",
   "execution_count": 119,
   "id": "bef4d35f",
   "metadata": {},
   "outputs": [],
   "source": [
    "attributes=[\"max_FIT102_Raw_Signal\",\"min_FIT102_Raw_Signal\",\"mean_FIT102_Raw_Signal\",\"std_FIT102_Raw_Signal\",\"max_FIT202_Raw_Signal\",\"min_FIT202_Raw_Signal\",\"mean_FIT202_Raw_Signal\",\"std_FIT202_Raw_Signal\",\"max_LIT101_Raw_Signal\",\"min_LIT101_Raw_Signal\",\"mean_LIT101_Raw_Signal\",\"std_LIT101_Raw_Signal\",\"max_LIT201_Raw_Signal\",\"min_LIT201_Raw_Signal\",\"mean_LIT201_Raw_Signal\",\"std_LIT201_Raw_Signal\",\"max_PIT101_Raw_Signal\",\"min_PIT101_Raw_Signal\",\"mean_PIT101_Raw_Signal\",\"std_PIT101_Raw_Signal\",\"max_PIT102_Raw_Signal\",\"min_PIT102_Raw_Signal\",\"mean_PIT102_Raw_Signal\",\"std_PIT102_Raw_Signal\",\"max_PIT201_Raw_Signal\",\"min_PIT201_Raw_Signal\",\"mean_PIT201_Raw_Signal\",\"std_PIT201_Raw_Signal\",\"max_PIT202_Raw_Signal\",\"min_PIT202_Raw_Signal\",\"mean_PIT202_Raw_Signal\",\"std_PIT202_Raw_Signal\",\"max_SI102_Raw_Signal\",\"min_SI102_Raw_Signal\",\"mean_SI102_Raw_Signal\",\"std_SI102_Raw_Signal\",\"max_SI202_Raw_Signal\",\"min_SI202_Raw_Signal\",\"mean_SI202_Raw_Signal\",\"std_SI202_Raw_Signal\",\"zeek_conn\",\"na\"]\n",
    "scaler=StandardScaler()\n",
    "scaler.fit(X_train[attributes])\n",
    "X_train[attributes]=scaler.transform(X_train[attributes])\n",
    "X_test[attributes]=scaler.transform(X_test[attributes])"
   ]
  },
  {
   "cell_type": "code",
   "execution_count": 120,
   "id": "24513af5",
   "metadata": {},
   "outputs": [
    {
     "name": "stdout",
     "output_type": "stream",
     "text": [
      "Best parameters: {'gamma': 0.15, 'learning_rate': 0.2, 'max_depth': 6, 'n_estimators': 125} , Best CV Accuracy: 0.8264555561681093\n"
     ]
    }
   ],
   "source": [
    "xgb4=XGBClassifier(objective=\"binary:logistic\",use_label_encoder=False)\n",
    "parameters={\"n_estimators\":[125], \"learning_rate\":[0.2], \"max_depth\":[6], \"gamma\":[0.15]}\n",
    "\n",
    "xgb_cv4=GridSearchCV(xgb4, parameters, scoring=\"accuracy\",cv=5)\n",
    "xgb_cv4.fit(X_train,y_train)\n",
    "\n",
    "print(\"Best parameters:\", xgb_cv4.best_params_ , \", Best CV Accuracy:\", xgb_cv4.best_score_)"
   ]
  },
  {
   "cell_type": "code",
   "execution_count": 121,
   "id": "edeb0b6b",
   "metadata": {},
   "outputs": [
    {
     "name": "stdout",
     "output_type": "stream",
     "text": [
      "XGBC has test accuracy 88.52 %\n"
     ]
    }
   ],
   "source": [
    "#prediction\n",
    "y_hat4=xgb_cv4.best_estimator_.predict(X_test)\n",
    "print(\"XGBC has test accuracy\", round(100*(accuracy_score(y_hat4,y_test)),2), \"%\")"
   ]
  },
  {
   "cell_type": "code",
   "execution_count": 122,
   "id": "0057e8ce",
   "metadata": {},
   "outputs": [
    {
     "name": "stdout",
     "output_type": "stream",
     "text": [
      "F1 score of baseline is 0.22847187655550025\n",
      "F1 score of XGB is 0.8627789183855361\n"
     ]
    }
   ],
   "source": [
    "y_baseline=np.zeros(len(y_test))\n",
    "print(\"F1 score of baseline is\", f1_score(y_test,y_baseline,average=\"macro\"))\n",
    "print(\"F1 score of XGB is\", f1_score(y_test,y_hat4,average=\"macro\"))"
   ]
  },
  {
   "cell_type": "code",
   "execution_count": 124,
   "id": "3cd96447",
   "metadata": {},
   "outputs": [
    {
     "name": "stdout",
     "output_type": "stream",
     "text": [
      "Classification report\n",
      "              precision    recall  f1-score   support\n",
      "\n",
      "    abnormal       0.80      0.81      0.81       459\n",
      "      normal       0.92      0.92      0.92      1091\n",
      "\n",
      "    accuracy                           0.89      1550\n",
      "   macro avg       0.86      0.86      0.86      1550\n",
      "weighted avg       0.89      0.89      0.89      1550\n",
      "\n",
      "\n",
      "\n"
     ]
    }
   ],
   "source": [
    "#print classification report\n",
    "from sklearn.metrics import classification_report, plot_confusion_matrix\n",
    "print('Classification report')\n",
    "print(classification_report(y_test, y_hat4,target_names=[\"abnormal\",\"normal\"]))\n",
    "print('\\n')"
   ]
  },
  {
   "cell_type": "code",
   "execution_count": null,
   "id": "ac5cb8d5",
   "metadata": {},
   "outputs": [],
   "source": []
  }
 ],
 "metadata": {
  "kernelspec": {
   "display_name": "Python 3 Conda",
   "language": "python",
   "name": "python3_conda"
  },
  "language_info": {
   "codemirror_mode": {
    "name": "ipython",
    "version": 3
   },
   "file_extension": ".py",
   "mimetype": "text/x-python",
   "name": "python",
   "nbconvert_exporter": "python",
   "pygments_lexer": "ipython3",
   "version": "3.9.13"
  }
 },
 "nbformat": 4,
 "nbformat_minor": 5
}
